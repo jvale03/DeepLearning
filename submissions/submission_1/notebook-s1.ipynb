{
 "cells": [
  {
   "cell_type": "code",
   "execution_count": 2,
   "metadata": {},
   "outputs": [
    {
     "name": "stdout",
     "output_type": "stream",
     "text": [
      "Modelo carregado de ../../models/modelo_dnn.pkl\n",
      "Previsões salvas em results-s1.csv\n"
     ]
    }
   ],
   "source": [
    "import re\n",
    "import numpy as np\n",
    "import pandas as pd\n",
    "from transformers import BertTokenizerFast\n",
    "import sys\n",
    "sys.path.append(\"../../src/model_DNN\")\n",
    "from deep_neural_net import DeepNeuralNetwork\n",
    "\n",
    "# Carrega o tokenizer customizado\n",
    "tokenizer = BertTokenizerFast.from_pretrained(\"../../src/data_processor/./custom_tokenizer\")\n",
    "\n",
    "# Função para limpeza do texto\n",
    "def clean_text(text: str) -> str:\n",
    "    text = text.lower()\n",
    "    text = re.sub(r'[^a-z\\s]', '', text)\n",
    "    return text\n",
    "\n",
    "# Função para processar textos\n",
    "def process_texts(texts):\n",
    "    tokenized = tokenizer(\n",
    "        texts, padding=\"max_length\", truncation=True, max_length=128\n",
    "    )[\"input_ids\"]\n",
    "    return tokenized\n",
    "\n",
    "# Carrega o modelo treinado\n",
    "dnn = DeepNeuralNetwork()\n",
    "dnn = dnn.load(\"../../models/modelo_dnn.pkl\")\n",
    "\n",
    "# Classe mock para compatibilidade com o modelo\n",
    "class MockDataset:\n",
    "    def __init__(self, X):\n",
    "        self.X = X\n",
    "\n",
    "def predict_from_txt(file_path):\n",
    "    with open(file_path, \"r\", encoding=\"utf-8\") as f:\n",
    "        lines = [line.strip() for line in f.readlines() if line.strip()]\n",
    "    \n",
    "    valid_lines = [line for line in lines if line.lower() != \"id;text\"]\n",
    "    \n",
    "    ids, texts = zip(*[line.split(\";\", 1) for line in valid_lines if \";\" in line])\n",
    "    \n",
    "    processed_texts = process_texts([clean_text(t) for t in texts])\n",
    "    mock_dataset = MockDataset(np.array(processed_texts))\n",
    "    predictions = dnn.predict(mock_dataset)\n",
    "    \n",
    "    df = pd.DataFrame()\n",
    "    df[\"ID\"] = ids\n",
    "    df[\"Label\"] = [\"AI\" if p[0] >= 0.5 else \"Human\" for p in predictions]\n",
    "    df[\"Confiança\"] = [p[0] for p in predictions]\n",
    "    \n",
    "    output_file = \"results-s1.csv\"\n",
    "    df.to_csv(output_file, index=False, sep=\";\")\n",
    "    print(f\"Previsões salvas em {output_file}\")\n",
    "\n",
    "input_file = \"../../datasets/dataset2_inputs.csv\"\n",
    "predict_from_txt(input_file)\n",
    "\n"
   ]
  }
 ],
 "metadata": {
  "kernelspec": {
   "display_name": "4ano",
   "language": "python",
   "name": "python3"
  },
  "language_info": {
   "codemirror_mode": {
    "name": "ipython",
    "version": 3
   },
   "file_extension": ".py",
   "mimetype": "text/x-python",
   "name": "python",
   "nbconvert_exporter": "python",
   "pygments_lexer": "ipython3",
   "version": "3.12.9"
  }
 },
 "nbformat": 4,
 "nbformat_minor": 2
}
