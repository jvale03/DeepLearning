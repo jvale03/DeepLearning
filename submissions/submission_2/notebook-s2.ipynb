{
 "cells": [
  {
   "cell_type": "code",
   "execution_count": null,
   "metadata": {},
   "outputs": [
    {
     "ename": "NameError",
     "evalue": "name 'rnn' is not defined",
     "output_type": "error",
     "traceback": [
      "\u001b[1;31m---------------------------------------------------------------------------\u001b[0m",
      "\u001b[1;31mNameError\u001b[0m                                 Traceback (most recent call last)",
      "Cell \u001b[1;32mIn[2], line 25\u001b[0m\n\u001b[0;32m     22\u001b[0m     \u001b[38;5;28;01mreturn\u001b[39;00m tokenized\n\u001b[0;32m     24\u001b[0m \u001b[38;5;66;03m# Carrega o modelo treinado\u001b[39;00m\n\u001b[1;32m---> 25\u001b[0m rnn \u001b[38;5;241m=\u001b[39m \u001b[43mrnn\u001b[49m\u001b[38;5;241m.\u001b[39mload(\u001b[38;5;124m\"\u001b[39m\u001b[38;5;124m../../models/modelo_rnn.pkl\u001b[39m\u001b[38;5;124m\"\u001b[39m)\n\u001b[0;32m     27\u001b[0m \u001b[38;5;66;03m# Classe mock para compatibilidade com o modelo\u001b[39;00m\n\u001b[0;32m     28\u001b[0m \u001b[38;5;28;01mclass\u001b[39;00m \u001b[38;5;21;01mMockDataset\u001b[39;00m:\n",
      "\u001b[1;31mNameError\u001b[0m: name 'rnn' is not defined"
     ]
    }
   ],
   "source": [
    "import re\n",
    "import numpy as np\n",
    "import pandas as pd\n",
    "from transformers import BertTokenizerFast\n",
    "import sys\n",
    "sys.path.append(\"../../src/model_RNN\")\n",
    "from recurrent_neural_net import RecurrentNeuralNetwork\n",
    "\n",
    "# Carrega o tokenizer customizado\n",
    "tokenizer = BertTokenizerFast.from_pretrained(\"../../src/data_processor/./custom_tokenizer\")\n",
    "\n",
    "# Função para limpeza do texto\n",
    "def clean_text(text: str) -> str:\n",
    "    text = text.lower()\n",
    "    text = re.sub(r'[^a-z\\s]', '', text)\n",
    "    return text\n",
    "\n",
    "# Função para processar textos\n",
    "def process_texts(texts):\n",
    "    tokenized = tokenizer(\n",
    "        texts, padding=\"max_length\", truncation=True, max_length=64\n",
    "    )[\"input_ids\"]\n",
    "    return tokenized\n",
    "\n",
    "# Carrega o modelo treinado\n",
    "rnn = RecurrentNeuralNetwork()\n",
    "rnn = rnn.load(\"../../models/modelo_rnn.pkl\")\n",
    "\n",
    "# Classe mock para compatibilidade com o modelo\n",
    "class MockDataset:\n",
    "    def __init__(self, X):\n",
    "        self.X = X\n",
    "\n",
    "def predict_from_txt(file_path):\n",
    "    with open(file_path, \"r\", encoding=\"utf-8\") as f:\n",
    "        lines = [line.strip() for line in f.readlines() if line.strip()]\n",
    "    \n",
    "    valid_lines = [line for line in lines if line.lower() != \"id;text\"]\n",
    "    \n",
    "    ids, texts = zip(*[line.split(\";\", 1) for line in valid_lines if \";\" in line])\n",
    "    \n",
    "    processed_texts = process_texts([clean_text(t) for t in texts])\n",
    "    mock_dataset = MockDataset(np.array(processed_texts))\n",
    "    predictions = rnn.predict(mock_dataset)\n",
    "    \n",
    "    df = pd.DataFrame()\n",
    "    df[\"ID\"] = ids\n",
    "    df[\"Label\"] = [\"AI\" if p[0] >= 0.5 else \"Human\" for p in predictions]\n",
    "    \n",
    "    output_file = \"results-s2.csv\"\n",
    "    df.to_csv(output_file, index=False, sep=\";\")\n",
    "    print(f\"Previsões salvas em {output_file}\")\n",
    "\n",
    "\n",
    "\n",
    "predict_from_txt(\"../../datasets/dataset2_inputs.csv\")\n"
   ]
  }
 ],
 "metadata": {
  "kernelspec": {
   "display_name": "daa",
   "language": "python",
   "name": "python3"
  },
  "language_info": {
   "codemirror_mode": {
    "name": "ipython",
    "version": 3
   },
   "file_extension": ".py",
   "mimetype": "text/x-python",
   "name": "python",
   "nbconvert_exporter": "python",
   "pygments_lexer": "ipython3",
   "version": "3.12.3"
  }
 },
 "nbformat": 4,
 "nbformat_minor": 2
}
