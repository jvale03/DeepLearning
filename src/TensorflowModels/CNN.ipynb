{
 "cells": [
  {
   "cell_type": "markdown",
   "metadata": {},
   "source": [
    "Imports"
   ]
  },
  {
   "cell_type": "code",
   "execution_count": 38,
   "metadata": {},
   "outputs": [],
   "source": [
    "import tensorflow as tf\n",
    "from tensorflow.keras.models import Sequential\n",
    "from tensorflow.keras.preprocessing.text import Tokenizer\n",
    "from tensorflow.keras.layers import Embedding, Conv1D, MaxPooling1D, Flatten, Dense, Dropout, BatchNormalization\n",
    "from tensorflow.keras.preprocessing.sequence import pad_sequences\n",
    "from tensorflow.keras.optimizers import Adam\n",
    "from tensorflow.keras.regularizers import l2\n",
    "from tensorflow.keras.callbacks import EarlyStopping, ReduceLROnPlateau\n",
    "\n",
    "import numpy as np\n",
    "import random\n",
    "import pandas as pd\n",
    "from sklearn.model_selection import train_test_split"
   ]
  },
  {
   "cell_type": "markdown",
   "metadata": {},
   "source": [
    "Read CSV"
   ]
  },
  {
   "cell_type": "code",
   "execution_count": 39,
   "metadata": {},
   "outputs": [],
   "source": [
    "# Set seed\n",
    "np.random.seed(42)\n",
    "random.seed(42)\n",
    "tf.random.set_seed(42)\n",
    "\n",
    "# Load the dataset\n",
    "dataset = pd.read_csv(\"../../datasets/final_dataset.csv\")\n",
    "\n",
    "# First split: train and test\n",
    "train_texts, test_texts, train_labels, test_labels = train_test_split(\n",
    "    dataset[\"Text\"], dataset[\"Label\"], test_size=0.2, random_state=42, stratify=dataset[\"Label\"]\n",
    ")\n",
    "\n",
    "# Second split: train and validation\n",
    "train_texts, val_texts, train_labels, val_labels = train_test_split(\n",
    "    train_texts, train_labels, test_size=0.2, random_state=42, stratify=train_labels\n",
    ")"
   ]
  },
  {
   "cell_type": "markdown",
   "metadata": {},
   "source": [
    "Process Data"
   ]
  },
  {
   "cell_type": "code",
   "execution_count": 40,
   "metadata": {},
   "outputs": [],
   "source": [
    "# Tokenize the data\n",
    "tokenizer = Tokenizer(num_words=10000)\n",
    "tokenizer.fit_on_texts(train_texts)\n",
    "\n",
    "X_train_seq = tokenizer.texts_to_sequences(train_texts)\n",
    "X_val_seq = tokenizer.texts_to_sequences(val_texts)\n",
    "X_test_seq = tokenizer.texts_to_sequences(test_texts)\n",
    "\n",
    "X_train = pad_sequences(X_train_seq, maxlen=100)\n",
    "X_val = pad_sequences(X_val_seq, maxlen=100)\n",
    "X_test = pad_sequences(X_test_seq, maxlen=100)\n",
    "\n",
    "y_train = np.array(train_labels)\n",
    "y_val = np.array(val_labels)\n",
    "y_test = np.array(test_labels)\n"
   ]
  },
  {
   "cell_type": "markdown",
   "metadata": {},
   "source": [
    "Neural Network"
   ]
  },
  {
   "cell_type": "code",
   "execution_count": 41,
   "metadata": {},
   "outputs": [
    {
     "name": "stdout",
     "output_type": "stream",
     "text": [
      "Epoch 1/50\n"
     ]
    },
    {
     "name": "stderr",
     "output_type": "stream",
     "text": [
      "c:\\Users\\tumab\\miniconda3\\envs\\DeepLearning\\Lib\\site-packages\\keras\\src\\layers\\core\\embedding.py:90: UserWarning: Argument `input_length` is deprecated. Just remove it.\n",
      "  warnings.warn(\n"
     ]
    },
    {
     "name": "stdout",
     "output_type": "stream",
     "text": [
      "\u001b[1m82/82\u001b[0m \u001b[32m━━━━━━━━━━━━━━━━━━━━\u001b[0m\u001b[37m\u001b[0m \u001b[1m3s\u001b[0m 12ms/step - accuracy: 0.4998 - loss: 3.7101 - val_accuracy: 0.5177 - val_loss: 3.2744 - learning_rate: 2.0000e-04\n",
      "Epoch 2/50\n",
      "\u001b[1m82/82\u001b[0m \u001b[32m━━━━━━━━━━━━━━━━━━━━\u001b[0m\u001b[37m\u001b[0m \u001b[1m1s\u001b[0m 8ms/step - accuracy: 0.5052 - loss: 3.6183 - val_accuracy: 0.5177 - val_loss: 3.1941 - learning_rate: 2.0000e-04\n",
      "Epoch 3/50\n",
      "\u001b[1m82/82\u001b[0m \u001b[32m━━━━━━━━━━━━━━━━━━━━\u001b[0m\u001b[37m\u001b[0m \u001b[1m1s\u001b[0m 10ms/step - accuracy: 0.5188 - loss: 3.4399 - val_accuracy: 0.5023 - val_loss: 3.1141 - learning_rate: 2.0000e-04\n",
      "Epoch 4/50\n",
      "\u001b[1m82/82\u001b[0m \u001b[32m━━━━━━━━━━━━━━━━━━━━\u001b[0m\u001b[37m\u001b[0m \u001b[1m1s\u001b[0m 9ms/step - accuracy: 0.4970 - loss: 3.2548 - val_accuracy: 0.5208 - val_loss: 3.0332 - learning_rate: 2.0000e-04\n",
      "Epoch 5/50\n",
      "\u001b[1m82/82\u001b[0m \u001b[32m━━━━━━━━━━━━━━━━━━━━\u001b[0m\u001b[37m\u001b[0m \u001b[1m1s\u001b[0m 10ms/step - accuracy: 0.5279 - loss: 3.0948 - val_accuracy: 0.5039 - val_loss: 2.9522 - learning_rate: 2.0000e-04\n",
      "Epoch 6/50\n",
      "\u001b[1m82/82\u001b[0m \u001b[32m━━━━━━━━━━━━━━━━━━━━\u001b[0m\u001b[37m\u001b[0m \u001b[1m1s\u001b[0m 9ms/step - accuracy: 0.5175 - loss: 3.0019 - val_accuracy: 0.4915 - val_loss: 2.8698 - learning_rate: 2.0000e-04\n",
      "Epoch 7/50\n",
      "\u001b[1m82/82\u001b[0m \u001b[32m━━━━━━━━━━━━━━━━━━━━\u001b[0m\u001b[37m\u001b[0m \u001b[1m1s\u001b[0m 10ms/step - accuracy: 0.5147 - loss: 2.8797 - val_accuracy: 0.4961 - val_loss: 2.7868 - learning_rate: 2.0000e-04\n",
      "Epoch 8/50\n",
      "\u001b[1m82/82\u001b[0m \u001b[32m━━━━━━━━━━━━━━━━━━━━\u001b[0m\u001b[37m\u001b[0m \u001b[1m1s\u001b[0m 9ms/step - accuracy: 0.5107 - loss: 2.7999 - val_accuracy: 0.4823 - val_loss: 2.7027 - learning_rate: 2.0000e-04\n",
      "Epoch 9/50\n",
      "\u001b[1m82/82\u001b[0m \u001b[32m━━━━━━━━━━━━━━━━━━━━\u001b[0m\u001b[37m\u001b[0m \u001b[1m1s\u001b[0m 10ms/step - accuracy: 0.5006 - loss: 2.6916 - val_accuracy: 0.4823 - val_loss: 2.6182 - learning_rate: 2.0000e-04\n",
      "Epoch 10/50\n",
      "\u001b[1m82/82\u001b[0m \u001b[32m━━━━━━━━━━━━━━━━━━━━\u001b[0m\u001b[37m\u001b[0m \u001b[1m1s\u001b[0m 9ms/step - accuracy: 0.5169 - loss: 2.6031 - val_accuracy: 0.4823 - val_loss: 2.5332 - learning_rate: 2.0000e-04\n",
      "Epoch 11/50\n",
      "\u001b[1m82/82\u001b[0m \u001b[32m━━━━━━━━━━━━━━━━━━━━\u001b[0m\u001b[37m\u001b[0m \u001b[1m1s\u001b[0m 9ms/step - accuracy: 0.5281 - loss: 2.5130 - val_accuracy: 0.4854 - val_loss: 2.4482 - learning_rate: 2.0000e-04\n",
      "Epoch 12/50\n",
      "\u001b[1m82/82\u001b[0m \u001b[32m━━━━━━━━━━━━━━━━━━━━\u001b[0m\u001b[37m\u001b[0m \u001b[1m1s\u001b[0m 9ms/step - accuracy: 0.5070 - loss: 2.4306 - val_accuracy: 0.5424 - val_loss: 2.3634 - learning_rate: 2.0000e-04\n",
      "Epoch 13/50\n",
      "\u001b[1m82/82\u001b[0m \u001b[32m━━━━━━━━━━━━━━━━━━━━\u001b[0m\u001b[37m\u001b[0m \u001b[1m1s\u001b[0m 10ms/step - accuracy: 0.4806 - loss: 2.3452 - val_accuracy: 0.5747 - val_loss: 2.2792 - learning_rate: 2.0000e-04\n",
      "Epoch 14/50\n",
      "\u001b[1m82/82\u001b[0m \u001b[32m━━━━━━━━━━━━━━━━━━━━\u001b[0m\u001b[37m\u001b[0m \u001b[1m1s\u001b[0m 9ms/step - accuracy: 0.5344 - loss: 2.2546 - val_accuracy: 0.5177 - val_loss: 2.1960 - learning_rate: 2.0000e-04\n",
      "Epoch 15/50\n",
      "\u001b[1m82/82\u001b[0m \u001b[32m━━━━━━━━━━━━━━━━━━━━\u001b[0m\u001b[37m\u001b[0m \u001b[1m1s\u001b[0m 9ms/step - accuracy: 0.5176 - loss: 2.1757 - val_accuracy: 0.5177 - val_loss: 2.1134 - learning_rate: 2.0000e-04\n",
      "Epoch 16/50\n",
      "\u001b[1m82/82\u001b[0m \u001b[32m━━━━━━━━━━━━━━━━━━━━\u001b[0m\u001b[37m\u001b[0m \u001b[1m1s\u001b[0m 9ms/step - accuracy: 0.5145 - loss: 2.0895 - val_accuracy: 0.5177 - val_loss: 2.0326 - learning_rate: 2.0000e-04\n",
      "Epoch 17/50\n",
      "\u001b[1m82/82\u001b[0m \u001b[32m━━━━━━━━━━━━━━━━━━━━\u001b[0m\u001b[37m\u001b[0m \u001b[1m1s\u001b[0m 10ms/step - accuracy: 0.5313 - loss: 2.0086 - val_accuracy: 0.5177 - val_loss: 1.9536 - learning_rate: 2.0000e-04\n",
      "Epoch 18/50\n",
      "\u001b[1m82/82\u001b[0m \u001b[32m━━━━━━━━━━━━━━━━━━━━\u001b[0m\u001b[37m\u001b[0m \u001b[1m1s\u001b[0m 9ms/step - accuracy: 0.5152 - loss: 1.9321 - val_accuracy: 0.5177 - val_loss: 1.8762 - learning_rate: 2.0000e-04\n",
      "Epoch 19/50\n",
      "\u001b[1m82/82\u001b[0m \u001b[32m━━━━━━━━━━━━━━━━━━━━\u001b[0m\u001b[37m\u001b[0m \u001b[1m1s\u001b[0m 10ms/step - accuracy: 0.5225 - loss: 1.8537 - val_accuracy: 0.5177 - val_loss: 1.8009 - learning_rate: 2.0000e-04\n",
      "Epoch 20/50\n",
      "\u001b[1m82/82\u001b[0m \u001b[32m━━━━━━━━━━━━━━━━━━━━\u001b[0m\u001b[37m\u001b[0m \u001b[1m1s\u001b[0m 8ms/step - accuracy: 0.5251 - loss: 1.7775 - val_accuracy: 0.5177 - val_loss: 1.7280 - learning_rate: 2.0000e-04\n",
      "Epoch 21/50\n",
      "\u001b[1m82/82\u001b[0m \u001b[32m━━━━━━━━━━━━━━━━━━━━\u001b[0m\u001b[37m\u001b[0m \u001b[1m1s\u001b[0m 10ms/step - accuracy: 0.5132 - loss: 1.7073 - val_accuracy: 0.5177 - val_loss: 1.6576 - learning_rate: 2.0000e-04\n",
      "Epoch 22/50\n",
      "\u001b[1m82/82\u001b[0m \u001b[32m━━━━━━━━━━━━━━━━━━━━\u001b[0m\u001b[37m\u001b[0m \u001b[1m1s\u001b[0m 10ms/step - accuracy: 0.5248 - loss: 1.6364 - val_accuracy: 0.5177 - val_loss: 1.5899 - learning_rate: 2.0000e-04\n",
      "Epoch 23/50\n",
      "\u001b[1m82/82\u001b[0m \u001b[32m━━━━━━━━━━━━━━━━━━━━\u001b[0m\u001b[37m\u001b[0m \u001b[1m1s\u001b[0m 10ms/step - accuracy: 0.5266 - loss: 1.5696 - val_accuracy: 0.5177 - val_loss: 1.5249 - learning_rate: 2.0000e-04\n",
      "Epoch 24/50\n",
      "\u001b[1m82/82\u001b[0m \u001b[32m━━━━━━━━━━━━━━━━━━━━\u001b[0m\u001b[37m\u001b[0m \u001b[1m1s\u001b[0m 9ms/step - accuracy: 0.5308 - loss: 1.5028 - val_accuracy: 0.5177 - val_loss: 1.4627 - learning_rate: 2.0000e-04\n",
      "Epoch 25/50\n",
      "\u001b[1m82/82\u001b[0m \u001b[32m━━━━━━━━━━━━━━━━━━━━\u001b[0m\u001b[37m\u001b[0m \u001b[1m1s\u001b[0m 12ms/step - accuracy: 0.5241 - loss: 1.4420 - val_accuracy: 0.5177 - val_loss: 1.4031 - learning_rate: 2.0000e-04\n",
      "Epoch 26/50\n",
      "\u001b[1m82/82\u001b[0m \u001b[32m━━━━━━━━━━━━━━━━━━━━\u001b[0m\u001b[37m\u001b[0m \u001b[1m1s\u001b[0m 10ms/step - accuracy: 0.5481 - loss: 1.3783 - val_accuracy: 0.5177 - val_loss: 1.3463 - learning_rate: 2.0000e-04\n",
      "Epoch 27/50\n",
      "\u001b[1m82/82\u001b[0m \u001b[32m━━━━━━━━━━━━━━━━━━━━\u001b[0m\u001b[37m\u001b[0m \u001b[1m1s\u001b[0m 11ms/step - accuracy: 0.5466 - loss: 1.3200 - val_accuracy: 0.5424 - val_loss: 1.2928 - learning_rate: 2.0000e-04\n",
      "Epoch 28/50\n",
      "\u001b[1m82/82\u001b[0m \u001b[32m━━━━━━━━━━━━━━━━━━━━\u001b[0m\u001b[37m\u001b[0m \u001b[1m1s\u001b[0m 10ms/step - accuracy: 0.5613 - loss: 1.2634 - val_accuracy: 0.7596 - val_loss: 1.2327 - learning_rate: 2.0000e-04\n",
      "Epoch 29/50\n",
      "\u001b[1m82/82\u001b[0m \u001b[32m━━━━━━━━━━━━━━━━━━━━\u001b[0m\u001b[37m\u001b[0m \u001b[1m1s\u001b[0m 12ms/step - accuracy: 0.5907 - loss: 1.1990 - val_accuracy: 0.8659 - val_loss: 1.1535 - learning_rate: 2.0000e-04\n",
      "Epoch 30/50\n",
      "\u001b[1m82/82\u001b[0m \u001b[32m━━━━━━━━━━━━━━━━━━━━\u001b[0m\u001b[37m\u001b[0m \u001b[1m1s\u001b[0m 11ms/step - accuracy: 0.6372 - loss: 1.1162 - val_accuracy: 0.9060 - val_loss: 1.0264 - learning_rate: 2.0000e-04\n",
      "Epoch 31/50\n",
      "\u001b[1m82/82\u001b[0m \u001b[32m━━━━━━━━━━━━━━━━━━━━\u001b[0m\u001b[37m\u001b[0m \u001b[1m1s\u001b[0m 9ms/step - accuracy: 0.7556 - loss: 1.0142 - val_accuracy: 0.9230 - val_loss: 0.8770 - learning_rate: 2.0000e-04\n",
      "Epoch 32/50\n",
      "\u001b[1m82/82\u001b[0m \u001b[32m━━━━━━━━━━━━━━━━━━━━\u001b[0m\u001b[37m\u001b[0m \u001b[1m1s\u001b[0m 10ms/step - accuracy: 0.8588 - loss: 0.8983 - val_accuracy: 0.9399 - val_loss: 0.7716 - learning_rate: 2.0000e-04\n",
      "Epoch 33/50\n",
      "\u001b[1m82/82\u001b[0m \u001b[32m━━━━━━━━━━━━━━━━━━━━\u001b[0m\u001b[37m\u001b[0m \u001b[1m1s\u001b[0m 10ms/step - accuracy: 0.9128 - loss: 0.7939 - val_accuracy: 0.9615 - val_loss: 0.6870 - learning_rate: 2.0000e-04\n",
      "Epoch 34/50\n",
      "\u001b[1m82/82\u001b[0m \u001b[32m━━━━━━━━━━━━━━━━━━━━\u001b[0m\u001b[37m\u001b[0m \u001b[1m1s\u001b[0m 11ms/step - accuracy: 0.9604 - loss: 0.7077 - val_accuracy: 0.9692 - val_loss: 0.6155 - learning_rate: 2.0000e-04\n",
      "Epoch 35/50\n",
      "\u001b[1m82/82\u001b[0m \u001b[32m━━━━━━━━━━━━━━━━━━━━\u001b[0m\u001b[37m\u001b[0m \u001b[1m1s\u001b[0m 9ms/step - accuracy: 0.9758 - loss: 0.6194 - val_accuracy: 0.9753 - val_loss: 0.5257 - learning_rate: 2.0000e-04\n",
      "Epoch 36/50\n",
      "\u001b[1m82/82\u001b[0m \u001b[32m━━━━━━━━━━━━━━━━━━━━\u001b[0m\u001b[37m\u001b[0m \u001b[1m1s\u001b[0m 11ms/step - accuracy: 0.9896 - loss: 0.5355 - val_accuracy: 0.9815 - val_loss: 0.4468 - learning_rate: 2.0000e-04\n",
      "Epoch 37/50\n",
      "\u001b[1m82/82\u001b[0m \u001b[32m━━━━━━━━━━━━━━━━━━━━\u001b[0m\u001b[37m\u001b[0m \u001b[1m1s\u001b[0m 10ms/step - accuracy: 0.9882 - loss: 0.4637 - val_accuracy: 0.9769 - val_loss: 0.3865 - learning_rate: 2.0000e-04\n",
      "Epoch 38/50\n",
      "\u001b[1m82/82\u001b[0m \u001b[32m━━━━━━━━━━━━━━━━━━━━\u001b[0m\u001b[37m\u001b[0m \u001b[1m1s\u001b[0m 11ms/step - accuracy: 0.9873 - loss: 0.4194 - val_accuracy: 0.9769 - val_loss: 0.3516 - learning_rate: 2.0000e-04\n",
      "Epoch 39/50\n",
      "\u001b[1m82/82\u001b[0m \u001b[32m━━━━━━━━━━━━━━━━━━━━\u001b[0m\u001b[37m\u001b[0m \u001b[1m1s\u001b[0m 11ms/step - accuracy: 0.9873 - loss: 0.3821 - val_accuracy: 0.9753 - val_loss: 0.3278 - learning_rate: 2.0000e-04\n",
      "Epoch 40/50\n",
      "\u001b[1m82/82\u001b[0m \u001b[32m━━━━━━━━━━━━━━━━━━━━\u001b[0m\u001b[37m\u001b[0m \u001b[1m1s\u001b[0m 9ms/step - accuracy: 0.9951 - loss: 0.3437 - val_accuracy: 0.9738 - val_loss: 0.3125 - learning_rate: 2.0000e-04\n",
      "Epoch 41/50\n",
      "\u001b[1m82/82\u001b[0m \u001b[32m━━━━━━━━━━━━━━━━━━━━\u001b[0m\u001b[37m\u001b[0m \u001b[1m1s\u001b[0m 10ms/step - accuracy: 0.9903 - loss: 0.3114 - val_accuracy: 0.9707 - val_loss: 0.2996 - learning_rate: 2.0000e-04\n",
      "Epoch 42/50\n",
      "\u001b[1m82/82\u001b[0m \u001b[32m━━━━━━━━━━━━━━━━━━━━\u001b[0m\u001b[37m\u001b[0m \u001b[1m1s\u001b[0m 13ms/step - accuracy: 0.9907 - loss: 0.2867 - val_accuracy: 0.9707 - val_loss: 0.2830 - learning_rate: 2.0000e-04\n",
      "Epoch 43/50\n",
      "\u001b[1m82/82\u001b[0m \u001b[32m━━━━━━━━━━━━━━━━━━━━\u001b[0m\u001b[37m\u001b[0m \u001b[1m1s\u001b[0m 11ms/step - accuracy: 0.9923 - loss: 0.2799 - val_accuracy: 0.9738 - val_loss: 0.2605 - learning_rate: 2.0000e-04\n",
      "Epoch 44/50\n",
      "\u001b[1m82/82\u001b[0m \u001b[32m━━━━━━━━━━━━━━━━━━━━\u001b[0m\u001b[37m\u001b[0m \u001b[1m1s\u001b[0m 12ms/step - accuracy: 0.9948 - loss: 0.2407 - val_accuracy: 0.9738 - val_loss: 0.2506 - learning_rate: 2.0000e-04\n",
      "Epoch 45/50\n",
      "\u001b[1m82/82\u001b[0m \u001b[32m━━━━━━━━━━━━━━━━━━━━\u001b[0m\u001b[37m\u001b[0m \u001b[1m1s\u001b[0m 14ms/step - accuracy: 0.9964 - loss: 0.2350 - val_accuracy: 0.9630 - val_loss: 0.2602 - learning_rate: 2.0000e-04\n",
      "Epoch 46/50\n",
      "\u001b[1m82/82\u001b[0m \u001b[32m━━━━━━━━━━━━━━━━━━━━\u001b[0m\u001b[37m\u001b[0m \u001b[1m1s\u001b[0m 12ms/step - accuracy: 0.9954 - loss: 0.2211 - val_accuracy: 0.9723 - val_loss: 0.2255 - learning_rate: 2.0000e-04\n",
      "Epoch 47/50\n",
      "\u001b[1m82/82\u001b[0m \u001b[32m━━━━━━━━━━━━━━━━━━━━\u001b[0m\u001b[37m\u001b[0m \u001b[1m1s\u001b[0m 10ms/step - accuracy: 0.9925 - loss: 0.2060 - val_accuracy: 0.9646 - val_loss: 0.2379 - learning_rate: 2.0000e-04\n",
      "Epoch 48/50\n",
      "\u001b[1m82/82\u001b[0m \u001b[32m━━━━━━━━━━━━━━━━━━━━\u001b[0m\u001b[37m\u001b[0m \u001b[1m1s\u001b[0m 11ms/step - accuracy: 0.9940 - loss: 0.1964 - val_accuracy: 0.9646 - val_loss: 0.2267 - learning_rate: 2.0000e-04\n",
      "Epoch 49/50\n",
      "\u001b[1m82/82\u001b[0m \u001b[32m━━━━━━━━━━━━━━━━━━━━\u001b[0m\u001b[37m\u001b[0m \u001b[1m1s\u001b[0m 10ms/step - accuracy: 0.9986 - loss: 0.1774 - val_accuracy: 0.9661 - val_loss: 0.2201 - learning_rate: 6.0000e-05\n",
      "Epoch 50/50\n",
      "\u001b[1m82/82\u001b[0m \u001b[32m━━━━━━━━━━━━━━━━━━━━\u001b[0m\u001b[37m\u001b[0m \u001b[1m1s\u001b[0m 11ms/step - accuracy: 0.9910 - loss: 0.1874 - val_accuracy: 0.9661 - val_loss: 0.2126 - learning_rate: 6.0000e-05\n"
     ]
    }
   ],
   "source": [
    "model = Sequential([\n",
    "    Embedding(input_dim=10000, output_dim=64, input_length=100),\n",
    "\n",
    "    Conv1D(64, 5, activation=\"relu\", kernel_regularizer=l2(0.01)),\n",
    "    MaxPooling1D(pool_size=2),\n",
    "    Dropout(0.6),\n",
    "\n",
    "    Conv1D(32, 5, activation=\"relu\", kernel_regularizer=l2(0.01)),\n",
    "    MaxPooling1D(pool_size=2),\n",
    "    Dropout(0.6),\n",
    "\n",
    "    Flatten(),\n",
    "    BatchNormalization(),\n",
    "\n",
    "    Dense(64, activation=\"relu\", kernel_regularizer=l2(0.01)),\n",
    "    Dropout(0.7),\n",
    "\n",
    "    Dense(32, activation=\"relu\", kernel_regularizer=l2(0.01)),\n",
    "    Dropout(0.7),\n",
    "\n",
    "    Dense(1, activation=\"sigmoid\")\n",
    "])\n",
    "\n",
    "# Compile with AdamW optimizer\n",
    "optimizer = tf.keras.optimizers.AdamW(learning_rate=0.0002, weight_decay=0.01)\n",
    "model.compile(optimizer=optimizer, loss=\"binary_crossentropy\", metrics=[\"accuracy\"])\n",
    "\n",
    "# Early Stopping\n",
    "early_stopping = EarlyStopping(\n",
    "    monitor='val_loss',\n",
    "    patience=5,\n",
    "    restore_best_weights=True\n",
    ")\n",
    "\n",
    "reduce_lr = ReduceLROnPlateau(\n",
    "    monitor='val_loss',\n",
    "    factor=0.3,\n",
    "    patience=2,\n",
    "    min_lr=0.00005\n",
    ")\n",
    "\n",
    "# Train with adjusted dropout, regularization, and patience for early stopping\n",
    "history = model.fit(\n",
    "    X_train, y_train,\n",
    "    epochs=50,\n",
    "    batch_size=32,\n",
    "    validation_data=(X_val, y_val),\n",
    "    callbacks=[early_stopping, reduce_lr]\n",
    ")\n"
   ]
  },
  {
   "cell_type": "markdown",
   "metadata": {},
   "source": [
    "Results"
   ]
  },
  {
   "cell_type": "code",
   "execution_count": 42,
   "metadata": {},
   "outputs": [
    {
     "name": "stdout",
     "output_type": "stream",
     "text": [
      "\u001b[1m26/26\u001b[0m \u001b[32m━━━━━━━━━━━━━━━━━━━━\u001b[0m\u001b[37m\u001b[0m \u001b[1m0s\u001b[0m 3ms/step - accuracy: 0.9792 - loss: 0.2022\n",
      "Test accuracy: 0.9766\n",
      "\n",
      "\u001b[1m21/21\u001b[0m \u001b[32m━━━━━━━━━━━━━━━━━━━━\u001b[0m\u001b[37m\u001b[0m \u001b[1m0s\u001b[0m 3ms/step - accuracy: 0.9679 - loss: 0.2059 \n",
      "Validation accuracy: 0.9661\n"
     ]
    }
   ],
   "source": [
    "test_loss, test_acc = model.evaluate(X_test, y_test)\n",
    "print(f\"Test accuracy: {test_acc:.4f}\\n\")\n",
    "\n",
    "val_loss, val_acc = model.evaluate(X_val, y_val)\n",
    "print(f\"Validation accuracy: {val_acc:.4f}\")"
   ]
  },
  {
   "cell_type": "markdown",
   "metadata": {},
   "source": [
    "Benchmarking"
   ]
  },
  {
   "cell_type": "code",
   "execution_count": 43,
   "metadata": {},
   "outputs": [
    {
     "name": "stdout",
     "output_type": "stream",
     "text": [
      "\u001b[1m3/3\u001b[0m \u001b[32m━━━━━━━━━━━━━━━━━━━━\u001b[0m\u001b[37m\u001b[0m \u001b[1m0s\u001b[0m 109ms/step\n",
      "Accuracy: 0.6125\n",
      "\n",
      "Misclassified Samples:\n",
      "    Label  Prediction Label_actual\n",
      "5   Human    0.000360           AI\n",
      "9   Human    0.001497           AI\n",
      "10  Human    0.031456           AI\n",
      "12  Human    0.000089           AI\n",
      "13  Human    0.057404           AI\n",
      "22  Human    0.006830           AI\n",
      "24  Human    0.083040           AI\n",
      "28  Human    0.000364           AI\n",
      "32     AI    0.863464        Human\n",
      "35  Human    0.083501           AI\n",
      "37  Human    0.005602           AI\n",
      "38  Human    0.230091           AI\n",
      "39  Human    0.424738           AI\n",
      "41     AI    0.986609        Human\n",
      "42  Human    0.013589           AI\n",
      "45  Human    0.063489           AI\n",
      "48     AI    0.881551        Human\n",
      "51  Human    0.026293           AI\n",
      "52     AI    0.507281        Human\n",
      "53  Human    0.000753           AI\n",
      "55  Human    0.219655           AI\n",
      "57  Human    0.002944           AI\n",
      "59  Human    0.001711           AI\n",
      "61  Human    0.009234           AI\n",
      "67  Human    0.000137           AI\n",
      "69  Human    0.027074           AI\n",
      "72     AI    0.951237        Human\n",
      "73  Human    0.013906           AI\n",
      "75  Human    0.074271           AI\n",
      "78     AI    0.917170        Human\n",
      "79  Human    0.000241           AI\n"
     ]
    }
   ],
   "source": [
    "# Load new data\n",
    "new_data = pd.read_csv(\"../../datasets/validation_dataset.csv\", delimiter=\";\")\n",
    "\n",
    "# Tokenize and pad the new data (using the same tokenizer you trained on)\n",
    "X_new_seq = tokenizer.texts_to_sequences(new_data[\"Text\"])\n",
    "X_new = pad_sequences(X_new_seq, maxlen=100)  # Ensure maxlen is consistent with your training data\n",
    "\n",
    "# Make predictions\n",
    "predictions = model.predict(X_new).flatten()\n",
    "\n",
    "# Convert predictions to labels based on threshold\n",
    "labels = [\"AI\" if pred > 0.5 else \"Human\" for pred in predictions]\n",
    "\n",
    "# Create output DataFrame with predictions\n",
    "output_df = pd.DataFrame({\n",
    "    \"Label\": labels,\n",
    "    \"Prediction\": predictions\n",
    "})\n",
    "\n",
    "# Load the ground truth labels (from the same dataset)\n",
    "# Since the labels are in the 'Label' column, we'll compare them with predictions.\n",
    "ground_truth = new_data[\"Label\"]\n",
    "\n",
    "# Calculate accuracy\n",
    "accuracy = (output_df[\"Label\"] == ground_truth).mean()\n",
    "\n",
    "# Print the accuracy\n",
    "print(f\"Accuracy: {accuracy:.4f}\")\n",
    "\n",
    "# Merge predictions with ground truth for comparison\n",
    "comparison_df = output_df.copy()\n",
    "comparison_df[\"Label_actual\"] = ground_truth\n",
    "\n",
    "# Show misclassified samples\n",
    "misclassified = comparison_df[comparison_df[\"Label\"] != comparison_df[\"Label_actual\"]]\n",
    "print(\"\\nMisclassified Samples:\")\n",
    "print(misclassified)\n"
   ]
  }
 ],
 "metadata": {
  "kernelspec": {
   "display_name": "DeepLearning",
   "language": "python",
   "name": "python3"
  },
  "language_info": {
   "codemirror_mode": {
    "name": "ipython",
    "version": 3
   },
   "file_extension": ".py",
   "mimetype": "text/x-python",
   "name": "python",
   "nbconvert_exporter": "python",
   "pygments_lexer": "ipython3",
   "version": "3.12.4"
  }
 },
 "nbformat": 4,
 "nbformat_minor": 2
}
