{
 "cells": [
  {
   "cell_type": "markdown",
   "metadata": {},
   "source": [
    "# Imports"
   ]
  },
  {
   "cell_type": "markdown",
   "metadata": {},
   "source": [
    "### TensorFlow"
   ]
  },
  {
   "cell_type": "code",
   "execution_count": 41,
   "metadata": {},
   "outputs": [],
   "source": [
    "import tensorflow as tf\n",
    "from tensorflow.keras.models import Sequential\n",
    "from tensorflow.keras.layers import Dense, Dropout, BatchNormalization\n",
    "from tensorflow import keras\n",
    "from tensorflow.keras.regularizers import l2\n",
    "from tensorflow.keras.optimizers import Adam\n",
    "from tensorflow.keras.callbacks import EarlyStopping"
   ]
  },
  {
   "cell_type": "code",
   "execution_count": 42,
   "metadata": {},
   "outputs": [],
   "source": [
    "import pandas as pd\n",
    "import numpy as np\n",
    "from sklearn.model_selection import train_test_split\n",
    "from sklearn.feature_extraction.text import TfidfVectorizer"
   ]
  },
  {
   "cell_type": "markdown",
   "metadata": {},
   "source": [
    "# Processing Data"
   ]
  },
  {
   "cell_type": "code",
   "execution_count": 43,
   "metadata": {},
   "outputs": [],
   "source": [
    "dataset = pd.read_csv(\"../datasets/AI_Human.csv\")\n",
    "\n",
    "train_texts, test_texts, train_labels, test_labels = train_test_split(\n",
    "    dataset[\"text\"], dataset[\"generated\"], test_size=0.2, random_state=42, stratify=dataset[\"generated\"]\n",
    ")"
   ]
  },
  {
   "cell_type": "code",
   "execution_count": 44,
   "metadata": {},
   "outputs": [],
   "source": [
    "vectorizer = TfidfVectorizer(max_features=5000)\n",
    "\n",
    "X_train = vectorizer.fit_transform(train_texts).toarray()\n",
    "X_test = vectorizer.fit_transform(test_texts).toarray()\n",
    "\n",
    "y_train = np.array(train_labels)\n",
    "y_test = np.array(test_labels)"
   ]
  },
  {
   "cell_type": "markdown",
   "metadata": {},
   "source": [
    "# Neural Network"
   ]
  },
  {
   "cell_type": "code",
   "execution_count": 45,
   "metadata": {},
   "outputs": [
    {
     "name": "stderr",
     "output_type": "stream",
     "text": [
      "c:\\Users\\tumab\\miniconda3\\envs\\DeepLearning\\Lib\\site-packages\\keras\\src\\layers\\core\\dense.py:87: UserWarning: Do not pass an `input_shape`/`input_dim` argument to a layer. When using Sequential models, prefer using an `Input(shape)` object as the first layer in the model instead.\n",
      "  super().__init__(activity_regularizer=activity_regularizer, **kwargs)\n"
     ]
    }
   ],
   "source": [
    "model = Sequential([\n",
    "    Dense(64, activation=\"relu\", input_shape=(X_train.shape[1],), kernel_regularizer=l2(0.001)),\n",
    "    BatchNormalization(),\n",
    "    Dropout(0.2),\n",
    "\n",
    "    Dense(32, activation=\"relu\", kernel_regularizer=l2(0.001)),\n",
    "    BatchNormalization(),\n",
    "    Dropout(0.2),\n",
    "\n",
    "    Dense(16, activation=\"relu\", kernel_regularizer=l2(0.002)),\n",
    "    BatchNormalization(),\n",
    "    Dropout(0.3),\n",
    "\n",
    "    Dense(1, activation=\"sigmoid\")\n",
    "])\n"
   ]
  },
  {
   "cell_type": "code",
   "execution_count": 46,
   "metadata": {},
   "outputs": [
    {
     "name": "stdout",
     "output_type": "stream",
     "text": [
      "Epoch 1/20\n",
      "\u001b[1m12181/12181\u001b[0m \u001b[32m━━━━━━━━━━━━━━━━━━━━\u001b[0m\u001b[37m\u001b[0m \u001b[1m96s\u001b[0m 8ms/step - accuracy: 0.9726 - loss: 0.1827 - val_accuracy: 0.7958 - val_loss: 0.6966\n",
      "Epoch 2/20\n",
      "\u001b[1m12181/12181\u001b[0m \u001b[32m━━━━━━━━━━━━━━━━━━━━\u001b[0m\u001b[37m\u001b[0m \u001b[1m79s\u001b[0m 6ms/step - accuracy: 0.9901 - loss: 0.0826 - val_accuracy: 0.7969 - val_loss: 0.6879\n",
      "Epoch 3/20\n",
      "\u001b[1m12181/12181\u001b[0m \u001b[32m━━━━━━━━━━━━━━━━━━━━\u001b[0m\u001b[37m\u001b[0m \u001b[1m76s\u001b[0m 6ms/step - accuracy: 0.9904 - loss: 0.0779 - val_accuracy: 0.7079 - val_loss: 1.2545\n",
      "Epoch 4/20\n",
      "\u001b[1m12181/12181\u001b[0m \u001b[32m━━━━━━━━━━━━━━━━━━━━\u001b[0m\u001b[37m\u001b[0m \u001b[1m72s\u001b[0m 6ms/step - accuracy: 0.9903 - loss: 0.0755 - val_accuracy: 0.7862 - val_loss: 0.7363\n",
      "Epoch 5/20\n",
      "\u001b[1m12181/12181\u001b[0m \u001b[32m━━━━━━━━━━━━━━━━━━━━\u001b[0m\u001b[37m\u001b[0m \u001b[1m64s\u001b[0m 5ms/step - accuracy: 0.9906 - loss: 0.0714 - val_accuracy: 0.7388 - val_loss: 0.8682\n",
      "Epoch 6/20\n",
      "\u001b[1m12181/12181\u001b[0m \u001b[32m━━━━━━━━━━━━━━━━━━━━\u001b[0m\u001b[37m\u001b[0m \u001b[1m71s\u001b[0m 6ms/step - accuracy: 0.9905 - loss: 0.0705 - val_accuracy: 0.7830 - val_loss: 0.7551\n",
      "Epoch 7/20\n",
      "\u001b[1m12181/12181\u001b[0m \u001b[32m━━━━━━━━━━━━━━━━━━━━\u001b[0m\u001b[37m\u001b[0m \u001b[1m65s\u001b[0m 5ms/step - accuracy: 0.9906 - loss: 0.0695 - val_accuracy: 0.7259 - val_loss: 1.1281\n"
     ]
    },
    {
     "data": {
      "text/plain": [
       "<keras.src.callbacks.history.History at 0x2170c2e21b0>"
      ]
     },
     "execution_count": 46,
     "metadata": {},
     "output_type": "execute_result"
    }
   ],
   "source": [
    "optimizer = Adam(learning_rate=0.005)\n",
    "\n",
    "model.compile(optimizer=\"adam\", loss=\"binary_crossentropy\", metrics=[\"accuracy\"])\n",
    "\n",
    "early_stop = EarlyStopping(monitor=\"val_loss\", patience=5, restore_best_weights=True)\n",
    "\n",
    "model.fit(X_train, y_train, epochs=20, batch_size=32, validation_data=(X_test, y_test), callbacks=[early_stop])"
   ]
  },
  {
   "cell_type": "code",
   "execution_count": 47,
   "metadata": {},
   "outputs": [
    {
     "name": "stdout",
     "output_type": "stream",
     "text": [
      "\u001b[1m3046/3046\u001b[0m \u001b[32m━━━━━━━━━━━━━━━━━━━━\u001b[0m\u001b[37m\u001b[0m \u001b[1m7s\u001b[0m 2ms/step - accuracy: 0.7972 - loss: 0.6918\n",
      "Loss: 0.6879, Accuracy: 0.7969\n"
     ]
    }
   ],
   "source": [
    "loss, accuracy = model.evaluate(X_test, y_test)\n",
    "print(f\"Loss: {loss:.4f}, Accuracy: {accuracy:.4f}\")"
   ]
  },
  {
   "cell_type": "code",
   "execution_count": 48,
   "metadata": {},
   "outputs": [
    {
     "name": "stdout",
     "output_type": "stream",
     "text": [
      "\u001b[1m1/1\u001b[0m \u001b[32m━━━━━━━━━━━━━━━━━━━━\u001b[0m\u001b[37m\u001b[0m \u001b[1m4s\u001b[0m 4s/step\n",
      "Predictions saved to predictions_output.tsv\n"
     ]
    }
   ],
   "source": [
    "# Load new data\n",
    "new_data = pd.read_csv(\"dataset_inputs.csv\", delimiter=\"\\t\")  # Ensure correct delimiter\n",
    "\n",
    "# Transform text using the same vectorizer\n",
    "X_new = vectorizer.transform(new_data[\"Text\"]).toarray()  # Ensure column name matches\n",
    "\n",
    "# Make predictions\n",
    "predictions = model.predict(X_new).flatten()  # Get raw prediction values\n",
    "\n",
    "# Convert predictions to labels\n",
    "labels = [\"AI\" if pred > 0.5 else \"Human\" for pred in predictions]\n",
    "\n",
    "# Create output DataFrame with both predicted labels and raw prediction values\n",
    "output_df = pd.DataFrame({\"ID\": new_data[\"ID\"], \"Label\": labels, \"Prediction\": predictions})\n",
    "\n",
    "# Save to TSV (tab-separated file)\n",
    "output_df.to_csv(\"predictions_output.csv\", index=False, sep=\"\\t\")\n",
    "\n",
    "print(\"Predictions saved to predictions_output.tsv\")\n"
   ]
  },
  {
   "cell_type": "code",
   "execution_count": 49,
   "metadata": {},
   "outputs": [
    {
     "name": "stdout",
     "output_type": "stream",
     "text": [
      "Accuracy: 0.6000\n",
      "\n",
      "Misclassified Samples:\n",
      "       ID Label_predicted  Prediction Label_actual\n",
      "4    D1-5              AI    0.984370        Human\n",
      "6    D1-7              AI    0.592310        Human\n",
      "8    D1-9              AI    0.999896        Human\n",
      "9   D1-10           Human    0.150132           AI\n",
      "11  D1-12           Human    0.326781           AI\n",
      "12  D1-13              AI    0.790196        Human\n",
      "18  D1-19              AI    0.995056        Human\n",
      "20  D1-21              AI    0.709150        Human\n",
      "22  D1-23              AI    0.998602        Human\n",
      "26  D1-27              AI    0.973348        Human\n",
      "28  D1-29              AI    0.999905        Human\n",
      "29  D1-30           Human    0.494273           AI\n"
     ]
    }
   ],
   "source": [
    "# Load the correct labels (ground truth)\n",
    "ground_truth = pd.read_csv(\"dataset_outputs.csv\", delimiter=\"\\t\")  # Ensure it's tab-separated\n",
    "\n",
    "# Load the predictions\n",
    "predictions = pd.read_csv(\"predictions_output.csv\", delimiter=\"\\t\")\n",
    "\n",
    "# Merge the two datasets on \"ID\" to align predictions with correct labels\n",
    "comparison_df = predictions.merge(ground_truth, on=\"ID\", suffixes=(\"_predicted\", \"_actual\"))\n",
    "\n",
    "# Calculate accuracy\n",
    "accuracy = (comparison_df[\"Label_predicted\"] == comparison_df[\"Label_actual\"]).mean()\n",
    "\n",
    "# Print results\n",
    "print(f\"Accuracy: {accuracy:.4f}\")\n",
    "\n",
    "# Show misclassified samples\n",
    "misclassified = comparison_df[comparison_df[\"Label_predicted\"] != comparison_df[\"Label_actual\"]]\n",
    "print(\"\\nMisclassified Samples:\")\n",
    "print(misclassified)\n"
   ]
  }
 ],
 "metadata": {
  "kernelspec": {
   "display_name": "DeepLearning",
   "language": "python",
   "name": "python3"
  },
  "language_info": {
   "codemirror_mode": {
    "name": "ipython",
    "version": 3
   },
   "file_extension": ".py",
   "mimetype": "text/x-python",
   "name": "python",
   "nbconvert_exporter": "python",
   "pygments_lexer": "ipython3",
   "version": "3.12.4"
  }
 },
 "nbformat": 4,
 "nbformat_minor": 2
}
