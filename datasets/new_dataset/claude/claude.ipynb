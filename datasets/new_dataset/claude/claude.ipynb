{
 "cells": [
  {
   "cell_type": "code",
   "execution_count": 3,
   "metadata": {},
   "outputs": [
    {
     "name": "stderr",
     "output_type": "stream",
     "text": [
      "[nltk_data] Downloading package punkt to\n",
      "[nltk_data]     C:\\Users\\Utilizador\\AppData\\Roaming\\nltk_data...\n",
      "[nltk_data]   Package punkt is already up-to-date!\n"
     ]
    },
    {
     "name": "stdout",
     "output_type": "stream",
     "text": [
      "Loaded spaCy model successfully\n",
      "Processing 32170 entries from claude_multiround_chat_30k.json...\n"
     ]
    },
    {
     "name": "stderr",
     "output_type": "stream",
     "text": [
      "Processing conversations:   0%|          | 131/32170 [00:36<2:33:18,  3.48it/s]"
     ]
    },
    {
     "name": "stdout",
     "output_type": "stream",
     "text": [
      "Found 10 valid entries so far\n"
     ]
    },
    {
     "name": "stderr",
     "output_type": "stream",
     "text": [
      "Processing conversations:   1%|          | 220/32170 [00:51<2:47:24,  3.18it/s]"
     ]
    },
    {
     "name": "stdout",
     "output_type": "stream",
     "text": [
      "Found 20 valid entries so far\n"
     ]
    },
    {
     "name": "stderr",
     "output_type": "stream",
     "text": [
      "Processing conversations:   1%|          | 336/32170 [01:23<1:16:17,  6.95it/s]"
     ]
    },
    {
     "name": "stdout",
     "output_type": "stream",
     "text": [
      "Found 30 valid entries so far\n"
     ]
    },
    {
     "name": "stderr",
     "output_type": "stream",
     "text": [
      "Processing conversations:   1%|          | 391/32170 [01:39<2:48:58,  3.13it/s]"
     ]
    },
    {
     "name": "stdout",
     "output_type": "stream",
     "text": [
      "Found 40 valid entries so far\n"
     ]
    },
    {
     "name": "stderr",
     "output_type": "stream",
     "text": [
      "Processing conversations:   2%|▏         | 522/32170 [02:15<1:50:33,  4.77it/s]"
     ]
    },
    {
     "name": "stdout",
     "output_type": "stream",
     "text": [
      "Found 50 valid entries so far\n"
     ]
    },
    {
     "name": "stderr",
     "output_type": "stream",
     "text": [
      "Processing conversations:   2%|▏         | 582/32170 [02:30<4:02:08,  2.17it/s]"
     ]
    },
    {
     "name": "stdout",
     "output_type": "stream",
     "text": [
      "Found 60 valid entries so far\n"
     ]
    },
    {
     "name": "stderr",
     "output_type": "stream",
     "text": [
      "Processing conversations:   2%|▏         | 663/32170 [02:50<47:42, 11.01it/s]  "
     ]
    },
    {
     "name": "stdout",
     "output_type": "stream",
     "text": [
      "Found 70 valid entries so far\n"
     ]
    },
    {
     "name": "stderr",
     "output_type": "stream",
     "text": [
      "Processing conversations:   2%|▏         | 798/32170 [03:27<2:48:36,  3.10it/s] "
     ]
    },
    {
     "name": "stdout",
     "output_type": "stream",
     "text": [
      "Found 80 valid entries so far\n"
     ]
    },
    {
     "name": "stderr",
     "output_type": "stream",
     "text": [
      "Processing conversations:   3%|▎         | 922/32170 [03:55<50:18, 10.35it/s]  "
     ]
    },
    {
     "name": "stdout",
     "output_type": "stream",
     "text": [
      "Found 90 valid entries so far\n"
     ]
    },
    {
     "name": "stderr",
     "output_type": "stream",
     "text": [
      "Processing conversations:   3%|▎         | 978/32170 [04:12<1:16:31,  6.79it/s]"
     ]
    },
    {
     "name": "stdout",
     "output_type": "stream",
     "text": [
      "Found 100 valid entries so far\n"
     ]
    },
    {
     "name": "stderr",
     "output_type": "stream",
     "text": [
      "Processing conversations:   3%|▎         | 1060/32170 [04:32<1:47:54,  4.80it/s]"
     ]
    },
    {
     "name": "stdout",
     "output_type": "stream",
     "text": [
      "Found 110 valid entries so far\n"
     ]
    },
    {
     "name": "stderr",
     "output_type": "stream",
     "text": [
      "Processing conversations:   4%|▎         | 1144/32170 [04:58<2:16:10,  3.80it/s]"
     ]
    },
    {
     "name": "stdout",
     "output_type": "stream",
     "text": [
      "Found 120 valid entries so far\n"
     ]
    },
    {
     "name": "stderr",
     "output_type": "stream",
     "text": [
      "Processing conversations:   4%|▍         | 1218/32170 [05:14<2:43:51,  3.15it/s]"
     ]
    },
    {
     "name": "stdout",
     "output_type": "stream",
     "text": [
      "Found 130 valid entries so far\n"
     ]
    },
    {
     "name": "stderr",
     "output_type": "stream",
     "text": [
      "Processing conversations:   4%|▍         | 1265/32170 [05:31<2:36:50,  3.28it/s]"
     ]
    },
    {
     "name": "stdout",
     "output_type": "stream",
     "text": [
      "Found 140 valid entries so far\n"
     ]
    },
    {
     "name": "stderr",
     "output_type": "stream",
     "text": [
      "Processing conversations:   4%|▍         | 1360/32170 [05:59<2:35:24,  3.30it/s]"
     ]
    },
    {
     "name": "stdout",
     "output_type": "stream",
     "text": [
      "Found 150 valid entries so far\n"
     ]
    },
    {
     "name": "stderr",
     "output_type": "stream",
     "text": [
      "Processing conversations:   5%|▍         | 1450/32170 [06:19<2:08:17,  3.99it/s]"
     ]
    },
    {
     "name": "stdout",
     "output_type": "stream",
     "text": [
      "Found 160 valid entries so far\n"
     ]
    },
    {
     "name": "stderr",
     "output_type": "stream",
     "text": [
      "Processing conversations:   5%|▍         | 1566/32170 [06:58<3:20:51,  2.54it/s]"
     ]
    },
    {
     "name": "stdout",
     "output_type": "stream",
     "text": [
      "Found 170 valid entries so far\n"
     ]
    },
    {
     "name": "stderr",
     "output_type": "stream",
     "text": [
      "Processing conversations:   5%|▌         | 1652/32170 [07:27<1:26:45,  5.86it/s]"
     ]
    },
    {
     "name": "stdout",
     "output_type": "stream",
     "text": [
      "Found 180 valid entries so far\n"
     ]
    },
    {
     "name": "stderr",
     "output_type": "stream",
     "text": [
      "Processing conversations:   6%|▌         | 1774/32170 [08:05<2:33:14,  3.31it/s]"
     ]
    },
    {
     "name": "stdout",
     "output_type": "stream",
     "text": [
      "Found 190 valid entries so far\n"
     ]
    },
    {
     "name": "stderr",
     "output_type": "stream",
     "text": [
      "Processing conversations:   6%|▌         | 1926/32170 [08:38<3:17:39,  2.55it/s]"
     ]
    },
    {
     "name": "stdout",
     "output_type": "stream",
     "text": [
      "Found 200 valid entries so far\n"
     ]
    },
    {
     "name": "stderr",
     "output_type": "stream",
     "text": [
      "Processing conversations:   6%|▋         | 2047/32170 [09:06<1:20:34,  6.23it/s]"
     ]
    },
    {
     "name": "stdout",
     "output_type": "stream",
     "text": [
      "Found 210 valid entries so far\n"
     ]
    },
    {
     "name": "stderr",
     "output_type": "stream",
     "text": [
      "Processing conversations:   7%|▋         | 2134/32170 [09:26<1:11:27,  7.01it/s]"
     ]
    },
    {
     "name": "stdout",
     "output_type": "stream",
     "text": [
      "Found 220 valid entries so far\n"
     ]
    },
    {
     "name": "stderr",
     "output_type": "stream",
     "text": [
      "Processing conversations:   7%|▋         | 2294/32170 [10:11<2:48:32,  2.95it/s]"
     ]
    },
    {
     "name": "stdout",
     "output_type": "stream",
     "text": [
      "Found 230 valid entries so far\n"
     ]
    },
    {
     "name": "stderr",
     "output_type": "stream",
     "text": [
      "Processing conversations:   8%|▊         | 2454/32170 [10:52<2:18:56,  3.56it/s]"
     ]
    },
    {
     "name": "stdout",
     "output_type": "stream",
     "text": [
      "Found 240 valid entries so far\n"
     ]
    },
    {
     "name": "stderr",
     "output_type": "stream",
     "text": [
      "Processing conversations:   8%|▊         | 2524/32170 [11:09<2:34:51,  3.19it/s]"
     ]
    },
    {
     "name": "stdout",
     "output_type": "stream",
     "text": [
      "Found 250 valid entries so far\n"
     ]
    },
    {
     "name": "stderr",
     "output_type": "stream",
     "text": [
      "Processing conversations:   8%|▊         | 2589/32170 [11:26<3:17:14,  2.50it/s]"
     ]
    },
    {
     "name": "stdout",
     "output_type": "stream",
     "text": [
      "Found 260 valid entries so far\n"
     ]
    },
    {
     "name": "stderr",
     "output_type": "stream",
     "text": [
      "Processing conversations:   8%|▊         | 2674/32170 [11:51<57:23,  8.57it/s]  "
     ]
    },
    {
     "name": "stdout",
     "output_type": "stream",
     "text": [
      "Found 270 valid entries so far\n"
     ]
    },
    {
     "name": "stderr",
     "output_type": "stream",
     "text": [
      "Processing conversations:   9%|▊         | 2779/32170 [12:15<2:07:12,  3.85it/s]"
     ]
    },
    {
     "name": "stdout",
     "output_type": "stream",
     "text": [
      "Found 280 valid entries so far\n"
     ]
    },
    {
     "name": "stderr",
     "output_type": "stream",
     "text": [
      "Processing conversations:   9%|▉         | 2838/32170 [12:30<54:53,  8.90it/s]  "
     ]
    },
    {
     "name": "stdout",
     "output_type": "stream",
     "text": [
      "Found 290 valid entries so far\n"
     ]
    },
    {
     "name": "stderr",
     "output_type": "stream",
     "text": [
      "Processing conversations:   9%|▉         | 2921/32170 [12:58<1:17:43,  6.27it/s]"
     ]
    },
    {
     "name": "stdout",
     "output_type": "stream",
     "text": [
      "Found 300 valid entries so far\n"
     ]
    },
    {
     "name": "stderr",
     "output_type": "stream",
     "text": [
      "Processing conversations:   9%|▉         | 3048/32170 [13:32<2:47:22,  2.90it/s]"
     ]
    },
    {
     "name": "stdout",
     "output_type": "stream",
     "text": [
      "Found 310 valid entries so far\n"
     ]
    },
    {
     "name": "stderr",
     "output_type": "stream",
     "text": [
      "Processing conversations:  10%|▉         | 3152/32170 [13:56<1:10:55,  6.82it/s]"
     ]
    },
    {
     "name": "stdout",
     "output_type": "stream",
     "text": [
      "Found 320 valid entries so far\n"
     ]
    },
    {
     "name": "stderr",
     "output_type": "stream",
     "text": [
      "Processing conversations:  10%|█         | 3232/32170 [14:13<1:23:15,  5.79it/s]"
     ]
    },
    {
     "name": "stdout",
     "output_type": "stream",
     "text": [
      "Found 330 valid entries so far\n"
     ]
    },
    {
     "name": "stderr",
     "output_type": "stream",
     "text": [
      "Processing conversations:  10%|█         | 3294/32170 [14:25<1:22:04,  5.86it/s]"
     ]
    },
    {
     "name": "stdout",
     "output_type": "stream",
     "text": [
      "Found 340 valid entries so far\n"
     ]
    },
    {
     "name": "stderr",
     "output_type": "stream",
     "text": [
      "Processing conversations:  11%|█         | 3413/32170 [14:55<2:36:48,  3.06it/s]"
     ]
    },
    {
     "name": "stdout",
     "output_type": "stream",
     "text": [
      "Found 350 valid entries so far\n"
     ]
    },
    {
     "name": "stderr",
     "output_type": "stream",
     "text": [
      "Processing conversations:  11%|█         | 3505/32170 [15:20<1:55:46,  4.13it/s]"
     ]
    },
    {
     "name": "stdout",
     "output_type": "stream",
     "text": [
      "Found 360 valid entries so far\n"
     ]
    },
    {
     "name": "stderr",
     "output_type": "stream",
     "text": [
      "Processing conversations:  11%|█▏        | 3631/32170 [15:45<55:01,  8.64it/s]  "
     ]
    },
    {
     "name": "stdout",
     "output_type": "stream",
     "text": [
      "Found 370 valid entries so far\n"
     ]
    },
    {
     "name": "stderr",
     "output_type": "stream",
     "text": [
      "Processing conversations:  12%|█▏        | 3719/32170 [16:09<1:24:42,  5.60it/s]"
     ]
    },
    {
     "name": "stdout",
     "output_type": "stream",
     "text": [
      "Found 380 valid entries so far\n"
     ]
    },
    {
     "name": "stderr",
     "output_type": "stream",
     "text": [
      "Processing conversations:  12%|█▏        | 3782/32170 [16:24<1:38:00,  4.83it/s]"
     ]
    },
    {
     "name": "stdout",
     "output_type": "stream",
     "text": [
      "Found 390 valid entries so far\n"
     ]
    },
    {
     "name": "stderr",
     "output_type": "stream",
     "text": [
      "Processing conversations:  12%|█▏        | 3837/32170 [16:41<2:48:04,  2.81it/s]"
     ]
    },
    {
     "name": "stdout",
     "output_type": "stream",
     "text": [
      "Found 400 valid entries so far\n"
     ]
    },
    {
     "name": "stderr",
     "output_type": "stream",
     "text": [
      "Processing conversations:  12%|█▏        | 3915/32170 [17:01<1:04:50,  7.26it/s]"
     ]
    },
    {
     "name": "stdout",
     "output_type": "stream",
     "text": [
      "Found 410 valid entries so far\n"
     ]
    },
    {
     "name": "stderr",
     "output_type": "stream",
     "text": [
      "Processing conversations:  13%|█▎        | 4027/32170 [17:31<3:58:47,  1.96it/s]"
     ]
    },
    {
     "name": "stdout",
     "output_type": "stream",
     "text": [
      "Found 420 valid entries so far\n"
     ]
    },
    {
     "name": "stderr",
     "output_type": "stream",
     "text": [
      "Processing conversations:  13%|█▎        | 4130/32170 [18:03<2:39:56,  2.92it/s]"
     ]
    },
    {
     "name": "stdout",
     "output_type": "stream",
     "text": [
      "Found 430 valid entries so far\n"
     ]
    },
    {
     "name": "stderr",
     "output_type": "stream",
     "text": [
      "Processing conversations:  13%|█▎        | 4204/32170 [18:21<2:03:49,  3.76it/s]"
     ]
    },
    {
     "name": "stdout",
     "output_type": "stream",
     "text": [
      "Found 440 valid entries so far\n"
     ]
    },
    {
     "name": "stderr",
     "output_type": "stream",
     "text": [
      "Processing conversations:  13%|█▎        | 4336/32170 [18:58<57:58,  8.00it/s]  "
     ]
    },
    {
     "name": "stdout",
     "output_type": "stream",
     "text": [
      "Found 450 valid entries so far\n"
     ]
    },
    {
     "name": "stderr",
     "output_type": "stream",
     "text": [
      "Processing conversations:  14%|█▍        | 4486/32170 [19:30<45:27, 10.15it/s]  "
     ]
    },
    {
     "name": "stdout",
     "output_type": "stream",
     "text": [
      "Found 460 valid entries so far\n"
     ]
    },
    {
     "name": "stderr",
     "output_type": "stream",
     "text": [
      "Processing conversations:  14%|█▍        | 4613/32170 [20:07<1:57:20,  3.91it/s]"
     ]
    },
    {
     "name": "stdout",
     "output_type": "stream",
     "text": [
      "Found 470 valid entries so far\n"
     ]
    },
    {
     "name": "stderr",
     "output_type": "stream",
     "text": [
      "Processing conversations:  15%|█▍        | 4684/32170 [20:22<1:25:43,  5.34it/s]"
     ]
    },
    {
     "name": "stdout",
     "output_type": "stream",
     "text": [
      "Found 480 valid entries so far\n"
     ]
    },
    {
     "name": "stderr",
     "output_type": "stream",
     "text": [
      "Processing conversations:  15%|█▍        | 4778/32170 [20:44<1:43:48,  4.40it/s]"
     ]
    },
    {
     "name": "stdout",
     "output_type": "stream",
     "text": [
      "Found 490 valid entries so far\n"
     ]
    },
    {
     "name": "stderr",
     "output_type": "stream",
     "text": [
      "Processing conversations:  15%|█▌        | 4935/32170 [21:22<1:03:48,  7.11it/s]"
     ]
    },
    {
     "name": "stdout",
     "output_type": "stream",
     "text": [
      "Found 500 valid entries so far\n"
     ]
    },
    {
     "name": "stderr",
     "output_type": "stream",
     "text": [
      "Processing conversations:  16%|█▌        | 5026/32170 [21:42<2:37:20,  2.88it/s]"
     ]
    },
    {
     "name": "stdout",
     "output_type": "stream",
     "text": [
      "Found 510 valid entries so far\n"
     ]
    },
    {
     "name": "stderr",
     "output_type": "stream",
     "text": [
      "Processing conversations:  16%|█▌        | 5145/32170 [22:15<1:36:37,  4.66it/s]"
     ]
    },
    {
     "name": "stdout",
     "output_type": "stream",
     "text": [
      "Found 520 valid entries so far\n"
     ]
    },
    {
     "name": "stderr",
     "output_type": "stream",
     "text": [
      "Processing conversations:  16%|█▋        | 5236/32170 [22:42<1:49:07,  4.11it/s]"
     ]
    },
    {
     "name": "stdout",
     "output_type": "stream",
     "text": [
      "Found 530 valid entries so far\n"
     ]
    },
    {
     "name": "stderr",
     "output_type": "stream",
     "text": [
      "Processing conversations:  17%|█▋        | 5322/32170 [23:02<46:31,  9.62it/s]  "
     ]
    },
    {
     "name": "stdout",
     "output_type": "stream",
     "text": [
      "Found 540 valid entries so far\n"
     ]
    },
    {
     "name": "stderr",
     "output_type": "stream",
     "text": [
      "Processing conversations:  17%|█▋        | 5445/32170 [23:34<2:07:59,  3.48it/s]"
     ]
    },
    {
     "name": "stdout",
     "output_type": "stream",
     "text": [
      "Found 550 valid entries so far\n"
     ]
    },
    {
     "name": "stderr",
     "output_type": "stream",
     "text": [
      "Processing conversations:  17%|█▋        | 5528/32170 [23:53<2:19:38,  3.18it/s]"
     ]
    },
    {
     "name": "stdout",
     "output_type": "stream",
     "text": [
      "Found 560 valid entries so far\n"
     ]
    },
    {
     "name": "stderr",
     "output_type": "stream",
     "text": [
      "Processing conversations:  17%|█▋        | 5585/32170 [24:08<2:11:50,  3.36it/s]"
     ]
    },
    {
     "name": "stdout",
     "output_type": "stream",
     "text": [
      "Found 570 valid entries so far\n"
     ]
    },
    {
     "name": "stderr",
     "output_type": "stream",
     "text": [
      "Processing conversations:  18%|█▊        | 5684/32170 [24:31<1:01:32,  7.17it/s]"
     ]
    },
    {
     "name": "stdout",
     "output_type": "stream",
     "text": [
      "Found 580 valid entries so far\n"
     ]
    },
    {
     "name": "stderr",
     "output_type": "stream",
     "text": [
      "Processing conversations:  18%|█▊        | 5790/32170 [24:56<1:34:32,  4.65it/s]"
     ]
    },
    {
     "name": "stdout",
     "output_type": "stream",
     "text": [
      "Found 590 valid entries so far\n"
     ]
    },
    {
     "name": "stderr",
     "output_type": "stream",
     "text": [
      "Processing conversations:  18%|█▊        | 5914/32170 [25:27<1:02:06,  7.05it/s]"
     ]
    },
    {
     "name": "stdout",
     "output_type": "stream",
     "text": [
      "Found 600 valid entries so far\n"
     ]
    },
    {
     "name": "stderr",
     "output_type": "stream",
     "text": [
      "Processing conversations:  19%|█▉        | 6038/32170 [25:59<1:59:45,  3.64it/s]"
     ]
    },
    {
     "name": "stdout",
     "output_type": "stream",
     "text": [
      "Found 610 valid entries so far\n"
     ]
    },
    {
     "name": "stderr",
     "output_type": "stream",
     "text": [
      "Processing conversations:  19%|█▉        | 6123/32170 [26:22<1:56:45,  3.72it/s]"
     ]
    },
    {
     "name": "stdout",
     "output_type": "stream",
     "text": [
      "Found 620 valid entries so far\n"
     ]
    },
    {
     "name": "stderr",
     "output_type": "stream",
     "text": [
      "Processing conversations:  19%|█▉        | 6251/32170 [27:02<2:10:34,  3.31it/s] "
     ]
    },
    {
     "name": "stdout",
     "output_type": "stream",
     "text": [
      "Found 630 valid entries so far\n"
     ]
    },
    {
     "name": "stderr",
     "output_type": "stream",
     "text": [
      "Processing conversations:  20%|█▉        | 6303/32170 [27:16<1:27:02,  4.95it/s]"
     ]
    },
    {
     "name": "stdout",
     "output_type": "stream",
     "text": [
      "Found 640 valid entries so far\n"
     ]
    },
    {
     "name": "stderr",
     "output_type": "stream",
     "text": [
      "Processing conversations:  20%|█▉        | 6371/32170 [27:32<2:01:33,  3.54it/s]"
     ]
    },
    {
     "name": "stdout",
     "output_type": "stream",
     "text": [
      "Found 650 valid entries so far\n"
     ]
    },
    {
     "name": "stderr",
     "output_type": "stream",
     "text": [
      "Processing conversations:  20%|██        | 6501/32170 [28:14<1:47:16,  3.99it/s]"
     ]
    },
    {
     "name": "stdout",
     "output_type": "stream",
     "text": [
      "Found 660 valid entries so far\n"
     ]
    },
    {
     "name": "stderr",
     "output_type": "stream",
     "text": [
      "Processing conversations:  21%|██        | 6610/32170 [28:44<37:46, 11.28it/s]  "
     ]
    },
    {
     "name": "stdout",
     "output_type": "stream",
     "text": [
      "Found 670 valid entries so far\n"
     ]
    },
    {
     "name": "stderr",
     "output_type": "stream",
     "text": [
      "Processing conversations:  21%|██        | 6669/32170 [29:02<1:43:17,  4.11it/s]"
     ]
    },
    {
     "name": "stdout",
     "output_type": "stream",
     "text": [
      "Found 680 valid entries so far\n"
     ]
    },
    {
     "name": "stderr",
     "output_type": "stream",
     "text": [
      "Processing conversations:  21%|██▏       | 6850/32170 [29:45<3:00:59,  2.33it/s]"
     ]
    },
    {
     "name": "stdout",
     "output_type": "stream",
     "text": [
      "Found 690 valid entries so far\n"
     ]
    },
    {
     "name": "stderr",
     "output_type": "stream",
     "text": [
      "Processing conversations:  22%|██▏       | 6942/32170 [30:07<2:18:58,  3.03it/s]"
     ]
    },
    {
     "name": "stdout",
     "output_type": "stream",
     "text": [
      "Found 700 valid entries so far\n"
     ]
    },
    {
     "name": "stderr",
     "output_type": "stream",
     "text": [
      "Processing conversations:  22%|██▏       | 7027/32170 [30:24<2:19:26,  3.01it/s]"
     ]
    },
    {
     "name": "stdout",
     "output_type": "stream",
     "text": [
      "Found 710 valid entries so far\n"
     ]
    },
    {
     "name": "stderr",
     "output_type": "stream",
     "text": [
      "Processing conversations:  22%|██▏       | 7178/32170 [31:11<1:54:46,  3.63it/s]"
     ]
    },
    {
     "name": "stdout",
     "output_type": "stream",
     "text": [
      "Found 720 valid entries so far\n"
     ]
    },
    {
     "name": "stderr",
     "output_type": "stream",
     "text": [
      "Processing conversations:  23%|██▎       | 7301/32170 [31:40<58:30,  7.08it/s]  "
     ]
    },
    {
     "name": "stdout",
     "output_type": "stream",
     "text": [
      "Found 730 valid entries so far\n"
     ]
    },
    {
     "name": "stderr",
     "output_type": "stream",
     "text": [
      "Processing conversations:  23%|██▎       | 7425/32170 [32:13<1:14:52,  5.51it/s]"
     ]
    },
    {
     "name": "stdout",
     "output_type": "stream",
     "text": [
      "Found 740 valid entries so far\n"
     ]
    },
    {
     "name": "stderr",
     "output_type": "stream",
     "text": [
      "Processing conversations:  23%|██▎       | 7493/32170 [32:31<52:32,  7.83it/s]  "
     ]
    },
    {
     "name": "stdout",
     "output_type": "stream",
     "text": [
      "Found 750 valid entries so far\n"
     ]
    },
    {
     "name": "stderr",
     "output_type": "stream",
     "text": [
      "Processing conversations:  24%|██▎       | 7629/32170 [33:08<2:55:51,  2.33it/s]"
     ]
    },
    {
     "name": "stdout",
     "output_type": "stream",
     "text": [
      "Found 760 valid entries so far\n"
     ]
    },
    {
     "name": "stderr",
     "output_type": "stream",
     "text": [
      "Processing conversations:  24%|██▍       | 7679/32170 [33:16<1:32:04,  4.43it/s]"
     ]
    },
    {
     "name": "stdout",
     "output_type": "stream",
     "text": [
      "Found 770 valid entries so far\n"
     ]
    },
    {
     "name": "stderr",
     "output_type": "stream",
     "text": [
      "Processing conversations:  24%|██▍       | 7721/32170 [33:26<1:12:14,  5.64it/s]"
     ]
    },
    {
     "name": "stdout",
     "output_type": "stream",
     "text": [
      "Found 780 valid entries so far\n"
     ]
    },
    {
     "name": "stderr",
     "output_type": "stream",
     "text": [
      "Processing conversations:  24%|██▍       | 7818/32170 [33:52<1:11:11,  5.70it/s]"
     ]
    },
    {
     "name": "stdout",
     "output_type": "stream",
     "text": [
      "Found 790 valid entries so far\n"
     ]
    },
    {
     "name": "stderr",
     "output_type": "stream",
     "text": [
      "Processing conversations:  25%|██▍       | 7971/32170 [34:27<1:32:39,  4.35it/s]"
     ]
    },
    {
     "name": "stdout",
     "output_type": "stream",
     "text": [
      "Found 800 valid entries so far\n"
     ]
    },
    {
     "name": "stderr",
     "output_type": "stream",
     "text": [
      "Processing conversations:  25%|██▌       | 8190/32170 [35:23<54:26,  7.34it/s]  "
     ]
    },
    {
     "name": "stdout",
     "output_type": "stream",
     "text": [
      "Found 810 valid entries so far\n"
     ]
    },
    {
     "name": "stderr",
     "output_type": "stream",
     "text": [
      "Processing conversations:  26%|██▌       | 8308/32170 [35:55<2:09:15,  3.08it/s]"
     ]
    },
    {
     "name": "stdout",
     "output_type": "stream",
     "text": [
      "Found 820 valid entries so far\n"
     ]
    },
    {
     "name": "stderr",
     "output_type": "stream",
     "text": [
      "Processing conversations:  26%|██▌       | 8373/32170 [36:14<1:23:59,  4.72it/s]"
     ]
    },
    {
     "name": "stdout",
     "output_type": "stream",
     "text": [
      "Found 830 valid entries so far\n"
     ]
    },
    {
     "name": "stderr",
     "output_type": "stream",
     "text": [
      "Processing conversations:  26%|██▋       | 8451/32170 [36:33<54:51,  7.21it/s]  "
     ]
    },
    {
     "name": "stdout",
     "output_type": "stream",
     "text": [
      "Found 840 valid entries so far\n"
     ]
    },
    {
     "name": "stderr",
     "output_type": "stream",
     "text": [
      "Processing conversations:  27%|██▋       | 8561/32170 [37:01<1:08:05,  5.78it/s]"
     ]
    },
    {
     "name": "stdout",
     "output_type": "stream",
     "text": [
      "Found 850 valid entries so far\n"
     ]
    },
    {
     "name": "stderr",
     "output_type": "stream",
     "text": [
      "Processing conversations:  27%|██▋       | 8678/32170 [37:32<58:48,  6.66it/s]  "
     ]
    },
    {
     "name": "stdout",
     "output_type": "stream",
     "text": [
      "Found 860 valid entries so far\n"
     ]
    },
    {
     "name": "stderr",
     "output_type": "stream",
     "text": [
      "Processing conversations:  27%|██▋       | 8711/32170 [37:41<1:36:09,  4.07it/s]"
     ]
    },
    {
     "name": "stdout",
     "output_type": "stream",
     "text": [
      "Found 870 valid entries so far\n"
     ]
    },
    {
     "name": "stderr",
     "output_type": "stream",
     "text": [
      "Processing conversations:  27%|██▋       | 8803/32170 [38:14<1:38:42,  3.95it/s]"
     ]
    },
    {
     "name": "stdout",
     "output_type": "stream",
     "text": [
      "Found 880 valid entries so far\n"
     ]
    },
    {
     "name": "stderr",
     "output_type": "stream",
     "text": [
      "Processing conversations:  28%|██▊       | 8891/32170 [38:35<1:38:40,  3.93it/s]"
     ]
    },
    {
     "name": "stdout",
     "output_type": "stream",
     "text": [
      "Found 890 valid entries so far\n"
     ]
    },
    {
     "name": "stderr",
     "output_type": "stream",
     "text": [
      "Processing conversations:  28%|██▊       | 8987/32170 [39:04<3:36:36,  1.78it/s]"
     ]
    },
    {
     "name": "stdout",
     "output_type": "stream",
     "text": [
      "Found 900 valid entries so far\n"
     ]
    },
    {
     "name": "stderr",
     "output_type": "stream",
     "text": [
      "Processing conversations:  28%|██▊       | 9087/32170 [39:35<2:29:02,  2.58it/s]"
     ]
    },
    {
     "name": "stdout",
     "output_type": "stream",
     "text": [
      "Found 910 valid entries so far\n"
     ]
    },
    {
     "name": "stderr",
     "output_type": "stream",
     "text": [
      "Processing conversations:  29%|██▊       | 9215/32170 [40:08<1:59:21,  3.21it/s]"
     ]
    },
    {
     "name": "stdout",
     "output_type": "stream",
     "text": [
      "Found 920 valid entries so far\n"
     ]
    },
    {
     "name": "stderr",
     "output_type": "stream",
     "text": [
      "Processing conversations:  29%|██▉       | 9295/32170 [40:27<47:55,  7.96it/s]  "
     ]
    },
    {
     "name": "stdout",
     "output_type": "stream",
     "text": [
      "Found 930 valid entries so far\n"
     ]
    },
    {
     "name": "stderr",
     "output_type": "stream",
     "text": [
      "Processing conversations:  29%|██▉       | 9399/32170 [40:56<1:22:15,  4.61it/s]"
     ]
    },
    {
     "name": "stdout",
     "output_type": "stream",
     "text": [
      "Found 940 valid entries so far\n"
     ]
    },
    {
     "name": "stderr",
     "output_type": "stream",
     "text": [
      "Processing conversations:  30%|██▉       | 9510/32170 [41:26<1:59:25,  3.16it/s]"
     ]
    },
    {
     "name": "stdout",
     "output_type": "stream",
     "text": [
      "Found 950 valid entries so far\n"
     ]
    },
    {
     "name": "stderr",
     "output_type": "stream",
     "text": [
      "Processing conversations:  30%|██▉       | 9572/32170 [41:38<37:25, 10.06it/s]  "
     ]
    },
    {
     "name": "stdout",
     "output_type": "stream",
     "text": [
      "Found 960 valid entries so far\n"
     ]
    },
    {
     "name": "stderr",
     "output_type": "stream",
     "text": [
      "Processing conversations:  30%|███       | 9693/32170 [42:20<3:11:51,  1.95it/s]"
     ]
    },
    {
     "name": "stdout",
     "output_type": "stream",
     "text": [
      "Found 970 valid entries so far\n"
     ]
    },
    {
     "name": "stderr",
     "output_type": "stream",
     "text": [
      "Processing conversations:  30%|███       | 9770/32170 [42:49<34:28, 10.83it/s]  "
     ]
    },
    {
     "name": "stdout",
     "output_type": "stream",
     "text": [
      "Found 980 valid entries so far\n"
     ]
    },
    {
     "name": "stderr",
     "output_type": "stream",
     "text": [
      "Processing conversations:  31%|███       | 9851/32170 [43:40<1:51:18,  3.34it/s] "
     ]
    },
    {
     "name": "stdout",
     "output_type": "stream",
     "text": [
      "Found 990 valid entries so far\n"
     ]
    },
    {
     "name": "stderr",
     "output_type": "stream",
     "text": [
      "Processing conversations:  31%|███       | 9954/32170 [44:14<1:24:33,  4.38it/s]"
     ]
    },
    {
     "name": "stdout",
     "output_type": "stream",
     "text": [
      "Found 1000 valid entries so far\n"
     ]
    },
    {
     "name": "stderr",
     "output_type": "stream",
     "text": [
      "Processing conversations:  31%|███       | 10012/32170 [44:32<3:10:53,  1.93it/s]"
     ]
    },
    {
     "name": "stdout",
     "output_type": "stream",
     "text": [
      "Found 1010 valid entries so far\n"
     ]
    },
    {
     "name": "stderr",
     "output_type": "stream",
     "text": [
      "Processing conversations:  31%|███       | 10046/32170 [44:52<8:28:24,  1.38s/it]"
     ]
    },
    {
     "name": "stdout",
     "output_type": "stream",
     "text": [
      "Found 1020 valid entries so far\n"
     ]
    },
    {
     "name": "stderr",
     "output_type": "stream",
     "text": [
      "Processing conversations:  31%|███▏      | 10118/32170 [45:26<2:35:08,  2.37it/s]"
     ]
    },
    {
     "name": "stdout",
     "output_type": "stream",
     "text": [
      "Found 1030 valid entries so far\n"
     ]
    },
    {
     "name": "stderr",
     "output_type": "stream",
     "text": [
      "Processing conversations:  32%|███▏      | 10192/32170 [46:06<2:25:17,  2.52it/s] "
     ]
    },
    {
     "name": "stdout",
     "output_type": "stream",
     "text": [
      "Found 1040 valid entries so far\n"
     ]
    },
    {
     "name": "stderr",
     "output_type": "stream",
     "text": [
      "Processing conversations:  32%|███▏      | 10337/32170 [47:20<1:35:14,  3.82it/s] "
     ]
    },
    {
     "name": "stdout",
     "output_type": "stream",
     "text": [
      "Found 1050 valid entries so far\n"
     ]
    },
    {
     "name": "stderr",
     "output_type": "stream",
     "text": [
      "Processing conversations:  32%|███▏      | 10400/32170 [47:42<1:31:02,  3.99it/s]"
     ]
    },
    {
     "name": "stdout",
     "output_type": "stream",
     "text": [
      "Found 1060 valid entries so far\n"
     ]
    },
    {
     "name": "stderr",
     "output_type": "stream",
     "text": [
      "Processing conversations:  33%|███▎      | 10523/32170 [48:33<2:07:39,  2.83it/s]"
     ]
    },
    {
     "name": "stdout",
     "output_type": "stream",
     "text": [
      "Found 1070 valid entries so far\n"
     ]
    },
    {
     "name": "stderr",
     "output_type": "stream",
     "text": [
      "Processing conversations:  33%|███▎      | 10620/32170 [49:21<3:20:01,  1.80it/s]"
     ]
    },
    {
     "name": "stdout",
     "output_type": "stream",
     "text": [
      "Found 1080 valid entries so far\n"
     ]
    },
    {
     "name": "stderr",
     "output_type": "stream",
     "text": [
      "Processing conversations:  33%|███▎      | 10769/32170 [50:35<2:54:44,  2.04it/s]"
     ]
    },
    {
     "name": "stdout",
     "output_type": "stream",
     "text": [
      "Found 1090 valid entries so far\n"
     ]
    },
    {
     "name": "stderr",
     "output_type": "stream",
     "text": [
      "Processing conversations:  34%|███▎      | 10800/32170 [50:49<3:32:55,  1.67it/s]"
     ]
    },
    {
     "name": "stdout",
     "output_type": "stream",
     "text": [
      "Found 1100 valid entries so far\n"
     ]
    },
    {
     "name": "stderr",
     "output_type": "stream",
     "text": [
      "Processing conversations:  34%|███▍      | 10914/32170 [51:34<3:01:09,  1.96it/s]"
     ]
    },
    {
     "name": "stdout",
     "output_type": "stream",
     "text": [
      "Found 1110 valid entries so far\n"
     ]
    },
    {
     "name": "stderr",
     "output_type": "stream",
     "text": [
      "Processing conversations:  34%|███▍      | 11046/32170 [52:08<2:54:18,  2.02it/s]"
     ]
    },
    {
     "name": "stdout",
     "output_type": "stream",
     "text": [
      "Found 1120 valid entries so far\n"
     ]
    },
    {
     "name": "stderr",
     "output_type": "stream",
     "text": [
      "Processing conversations:  35%|███▍      | 11158/32170 [52:50<1:58:08,  2.96it/s]"
     ]
    },
    {
     "name": "stdout",
     "output_type": "stream",
     "text": [
      "Found 1130 valid entries so far\n"
     ]
    },
    {
     "name": "stderr",
     "output_type": "stream",
     "text": [
      "Processing conversations:  35%|███▍      | 11238/32170 [53:21<2:52:08,  2.03it/s]"
     ]
    },
    {
     "name": "stdout",
     "output_type": "stream",
     "text": [
      "Found 1140 valid entries so far\n"
     ]
    },
    {
     "name": "stderr",
     "output_type": "stream",
     "text": [
      "Processing conversations:  35%|███▌      | 11306/32170 [53:44<56:08,  6.19it/s]  "
     ]
    },
    {
     "name": "stdout",
     "output_type": "stream",
     "text": [
      "Found 1150 valid entries so far\n"
     ]
    },
    {
     "name": "stderr",
     "output_type": "stream",
     "text": [
      "Processing conversations:  35%|███▌      | 11364/32170 [54:01<1:42:28,  3.38it/s]"
     ]
    },
    {
     "name": "stdout",
     "output_type": "stream",
     "text": [
      "Found 1160 valid entries so far\n"
     ]
    },
    {
     "name": "stderr",
     "output_type": "stream",
     "text": [
      "Processing conversations:  36%|███▌      | 11440/32170 [54:33<1:41:45,  3.40it/s]"
     ]
    },
    {
     "name": "stdout",
     "output_type": "stream",
     "text": [
      "Found 1170 valid entries so far\n"
     ]
    },
    {
     "name": "stderr",
     "output_type": "stream",
     "text": [
      "Processing conversations:  36%|███▌      | 11534/32170 [55:05<1:33:51,  3.66it/s]"
     ]
    },
    {
     "name": "stdout",
     "output_type": "stream",
     "text": [
      "Found 1180 valid entries so far\n"
     ]
    },
    {
     "name": "stderr",
     "output_type": "stream",
     "text": [
      "Processing conversations:  36%|███▌      | 11640/32170 [55:47<2:25:49,  2.35it/s]"
     ]
    },
    {
     "name": "stdout",
     "output_type": "stream",
     "text": [
      "Found 1190 valid entries so far\n"
     ]
    },
    {
     "name": "stderr",
     "output_type": "stream",
     "text": [
      "Processing conversations:  37%|███▋      | 11755/32170 [56:20<3:00:10,  1.89it/s]"
     ]
    },
    {
     "name": "stdout",
     "output_type": "stream",
     "text": [
      "Found 1200 valid entries so far\n"
     ]
    },
    {
     "name": "stderr",
     "output_type": "stream",
     "text": [
      "Processing conversations:  37%|███▋      | 11823/32170 [56:52<1:11:16,  4.76it/s]"
     ]
    },
    {
     "name": "stdout",
     "output_type": "stream",
     "text": [
      "Found 1210 valid entries so far\n"
     ]
    },
    {
     "name": "stderr",
     "output_type": "stream",
     "text": [
      "Processing conversations:  37%|███▋      | 11943/32170 [57:43<3:57:12,  1.42it/s]"
     ]
    },
    {
     "name": "stdout",
     "output_type": "stream",
     "text": [
      "Found 1220 valid entries so far\n"
     ]
    },
    {
     "name": "stderr",
     "output_type": "stream",
     "text": [
      "Processing conversations:  37%|███▋      | 12027/32170 [58:36<6:11:19,  1.11s/it]"
     ]
    },
    {
     "name": "stdout",
     "output_type": "stream",
     "text": [
      "Found 1230 valid entries so far\n"
     ]
    },
    {
     "name": "stderr",
     "output_type": "stream",
     "text": [
      "Processing conversations:  38%|███▊      | 12126/32170 [59:32<5:36:47,  1.01s/it]"
     ]
    },
    {
     "name": "stdout",
     "output_type": "stream",
     "text": [
      "Found 1240 valid entries so far\n"
     ]
    },
    {
     "name": "stderr",
     "output_type": "stream",
     "text": [
      "Processing conversations:  38%|███▊      | 12210/32170 [1:00:11<1:53:09,  2.94it/s]"
     ]
    },
    {
     "name": "stdout",
     "output_type": "stream",
     "text": [
      "Found 1250 valid entries so far\n"
     ]
    },
    {
     "name": "stderr",
     "output_type": "stream",
     "text": [
      "Processing conversations:  38%|███▊      | 12301/32170 [1:00:45<1:38:20,  3.37it/s]"
     ]
    },
    {
     "name": "stdout",
     "output_type": "stream",
     "text": [
      "Found 1260 valid entries so far\n"
     ]
    },
    {
     "name": "stderr",
     "output_type": "stream",
     "text": [
      "Processing conversations:  38%|███▊      | 12382/32170 [1:01:11<2:15:57,  2.43it/s]"
     ]
    },
    {
     "name": "stdout",
     "output_type": "stream",
     "text": [
      "Found 1270 valid entries so far\n"
     ]
    },
    {
     "name": "stderr",
     "output_type": "stream",
     "text": [
      "Processing conversations:  39%|███▉      | 12534/32170 [1:02:07<1:33:07,  3.51it/s]"
     ]
    },
    {
     "name": "stdout",
     "output_type": "stream",
     "text": [
      "Found 1280 valid entries so far\n"
     ]
    },
    {
     "name": "stderr",
     "output_type": "stream",
     "text": [
      "Processing conversations:  39%|███▉      | 12584/32170 [1:02:22<1:04:35,  5.05it/s]"
     ]
    },
    {
     "name": "stdout",
     "output_type": "stream",
     "text": [
      "Found 1290 valid entries so far\n"
     ]
    },
    {
     "name": "stderr",
     "output_type": "stream",
     "text": [
      "Processing conversations:  40%|███▉      | 12716/32170 [1:02:55<1:05:35,  4.94it/s]"
     ]
    },
    {
     "name": "stdout",
     "output_type": "stream",
     "text": [
      "Found 1300 valid entries so far\n"
     ]
    },
    {
     "name": "stderr",
     "output_type": "stream",
     "text": [
      "Processing conversations:  40%|███▉      | 12848/32170 [1:03:29<2:40:01,  2.01it/s]"
     ]
    },
    {
     "name": "stdout",
     "output_type": "stream",
     "text": [
      "Found 1310 valid entries so far\n"
     ]
    },
    {
     "name": "stderr",
     "output_type": "stream",
     "text": [
      "Processing conversations:  40%|████      | 12895/32170 [1:03:49<2:59:38,  1.79it/s]"
     ]
    },
    {
     "name": "stdout",
     "output_type": "stream",
     "text": [
      "Found 1320 valid entries so far\n"
     ]
    },
    {
     "name": "stderr",
     "output_type": "stream",
     "text": [
      "Processing conversations:  40%|████      | 12998/32170 [1:04:24<2:43:36,  1.95it/s]"
     ]
    },
    {
     "name": "stdout",
     "output_type": "stream",
     "text": [
      "Found 1330 valid entries so far\n"
     ]
    },
    {
     "name": "stderr",
     "output_type": "stream",
     "text": [
      "Processing conversations:  41%|████      | 13105/32170 [1:04:58<36:57,  8.60it/s]  "
     ]
    },
    {
     "name": "stdout",
     "output_type": "stream",
     "text": [
      "Found 1340 valid entries so far\n"
     ]
    },
    {
     "name": "stderr",
     "output_type": "stream",
     "text": [
      "Processing conversations:  41%|████      | 13181/32170 [1:05:34<1:47:24,  2.95it/s]"
     ]
    },
    {
     "name": "stdout",
     "output_type": "stream",
     "text": [
      "Found 1350 valid entries so far\n"
     ]
    },
    {
     "name": "stderr",
     "output_type": "stream",
     "text": [
      "Processing conversations:  41%|████      | 13264/32170 [1:06:18<2:17:38,  2.29it/s]"
     ]
    },
    {
     "name": "stdout",
     "output_type": "stream",
     "text": [
      "Found 1360 valid entries so far\n"
     ]
    },
    {
     "name": "stderr",
     "output_type": "stream",
     "text": [
      "Processing conversations:  42%|████▏     | 13409/32170 [1:07:25<1:31:42,  3.41it/s]"
     ]
    },
    {
     "name": "stdout",
     "output_type": "stream",
     "text": [
      "Found 1370 valid entries so far\n"
     ]
    },
    {
     "name": "stderr",
     "output_type": "stream",
     "text": [
      "Processing conversations:  42%|████▏     | 13494/32170 [1:07:50<2:24:37,  2.15it/s]"
     ]
    },
    {
     "name": "stdout",
     "output_type": "stream",
     "text": [
      "Found 1380 valid entries so far\n"
     ]
    },
    {
     "name": "stderr",
     "output_type": "stream",
     "text": [
      "Processing conversations:  42%|████▏     | 13592/32170 [1:08:25<1:16:43,  4.04it/s]"
     ]
    },
    {
     "name": "stdout",
     "output_type": "stream",
     "text": [
      "Found 1390 valid entries so far\n"
     ]
    },
    {
     "name": "stderr",
     "output_type": "stream",
     "text": [
      "Processing conversations:  43%|████▎     | 13760/32170 [1:09:10<52:09,  5.88it/s]  "
     ]
    },
    {
     "name": "stdout",
     "output_type": "stream",
     "text": [
      "Found 1400 valid entries so far\n"
     ]
    },
    {
     "name": "stderr",
     "output_type": "stream",
     "text": [
      "Processing conversations:  43%|████▎     | 13840/32170 [1:09:33<1:11:18,  4.28it/s]"
     ]
    },
    {
     "name": "stdout",
     "output_type": "stream",
     "text": [
      "Found 1410 valid entries so far\n"
     ]
    },
    {
     "name": "stderr",
     "output_type": "stream",
     "text": [
      "Processing conversations:  44%|████▎     | 14010/32170 [1:10:21<51:27,  5.88it/s]  "
     ]
    },
    {
     "name": "stdout",
     "output_type": "stream",
     "text": [
      "Found 1420 valid entries so far\n"
     ]
    },
    {
     "name": "stderr",
     "output_type": "stream",
     "text": [
      "Processing conversations:  44%|████▎     | 14070/32170 [1:10:38<2:06:36,  2.38it/s]"
     ]
    },
    {
     "name": "stdout",
     "output_type": "stream",
     "text": [
      "Found 1430 valid entries so far\n"
     ]
    },
    {
     "name": "stderr",
     "output_type": "stream",
     "text": [
      "Processing conversations:  44%|████▍     | 14151/32170 [1:11:04<1:25:30,  3.51it/s]"
     ]
    },
    {
     "name": "stdout",
     "output_type": "stream",
     "text": [
      "Found 1440 valid entries so far\n"
     ]
    },
    {
     "name": "stderr",
     "output_type": "stream",
     "text": [
      "Processing conversations:  44%|████▍     | 14266/32170 [1:11:38<2:04:35,  2.39it/s]"
     ]
    },
    {
     "name": "stdout",
     "output_type": "stream",
     "text": [
      "Found 1450 valid entries so far\n"
     ]
    },
    {
     "name": "stderr",
     "output_type": "stream",
     "text": [
      "Processing conversations:  45%|████▍     | 14345/32170 [1:12:26<57:37,  5.16it/s]  "
     ]
    },
    {
     "name": "stdout",
     "output_type": "stream",
     "text": [
      "Found 1460 valid entries so far\n"
     ]
    },
    {
     "name": "stderr",
     "output_type": "stream",
     "text": [
      "Processing conversations:  45%|████▍     | 14381/32170 [1:12:44<2:23:52,  2.06it/s]"
     ]
    },
    {
     "name": "stdout",
     "output_type": "stream",
     "text": [
      "Found 1470 valid entries so far\n"
     ]
    },
    {
     "name": "stderr",
     "output_type": "stream",
     "text": [
      "Processing conversations:  45%|████▌     | 14485/32170 [1:13:26<1:42:56,  2.86it/s]"
     ]
    },
    {
     "name": "stdout",
     "output_type": "stream",
     "text": [
      "Found 1480 valid entries so far\n"
     ]
    },
    {
     "name": "stderr",
     "output_type": "stream",
     "text": [
      "Processing conversations:  45%|████▌     | 14606/32170 [1:14:13<1:33:03,  3.15it/s]"
     ]
    },
    {
     "name": "stdout",
     "output_type": "stream",
     "text": [
      "Found 1490 valid entries so far\n"
     ]
    },
    {
     "name": "stderr",
     "output_type": "stream",
     "text": [
      "Processing conversations:  46%|████▌     | 14789/32170 [1:15:24<1:19:49,  3.63it/s]"
     ]
    },
    {
     "name": "stdout",
     "output_type": "stream",
     "text": [
      "Found 1500 valid entries so far\n"
     ]
    },
    {
     "name": "stderr",
     "output_type": "stream",
     "text": [
      "Processing conversations:  46%|████▌     | 14869/32170 [1:16:08<3:33:15,  1.35it/s]"
     ]
    },
    {
     "name": "stdout",
     "output_type": "stream",
     "text": [
      "Found 1510 valid entries so far\n"
     ]
    },
    {
     "name": "stderr",
     "output_type": "stream",
     "text": [
      "Processing conversations:  47%|████▋     | 14993/32170 [1:16:52<1:29:43,  3.19it/s]"
     ]
    },
    {
     "name": "stdout",
     "output_type": "stream",
     "text": [
      "Found 1520 valid entries so far\n"
     ]
    },
    {
     "name": "stderr",
     "output_type": "stream",
     "text": [
      "Processing conversations:  47%|████▋     | 15051/32170 [1:17:13<1:30:25,  3.16it/s]"
     ]
    },
    {
     "name": "stdout",
     "output_type": "stream",
     "text": [
      "Found 1530 valid entries so far\n"
     ]
    },
    {
     "name": "stderr",
     "output_type": "stream",
     "text": [
      "Processing conversations:  47%|████▋     | 15124/32170 [1:17:28<38:14,  7.43it/s]  "
     ]
    },
    {
     "name": "stdout",
     "output_type": "stream",
     "text": [
      "Found 1540 valid entries so far\n"
     ]
    },
    {
     "name": "stderr",
     "output_type": "stream",
     "text": [
      "Processing conversations:  47%|████▋     | 15166/32170 [1:17:43<1:23:33,  3.39it/s]"
     ]
    },
    {
     "name": "stdout",
     "output_type": "stream",
     "text": [
      "Found 1550 valid entries so far\n"
     ]
    },
    {
     "name": "stderr",
     "output_type": "stream",
     "text": [
      "Processing conversations:  47%|████▋     | 15240/32170 [1:18:31<4:08:21,  1.14it/s]"
     ]
    },
    {
     "name": "stdout",
     "output_type": "stream",
     "text": [
      "Found 1560 valid entries so far\n"
     ]
    },
    {
     "name": "stderr",
     "output_type": "stream",
     "text": [
      "Processing conversations:  48%|████▊     | 15361/32170 [1:19:06<47:33,  5.89it/s]  "
     ]
    },
    {
     "name": "stdout",
     "output_type": "stream",
     "text": [
      "Found 1570 valid entries so far\n"
     ]
    },
    {
     "name": "stderr",
     "output_type": "stream",
     "text": [
      "Processing conversations:  48%|████▊     | 15411/32170 [1:19:22<53:05,  5.26it/s]  "
     ]
    },
    {
     "name": "stdout",
     "output_type": "stream",
     "text": [
      "Found 1580 valid entries so far\n"
     ]
    },
    {
     "name": "stderr",
     "output_type": "stream",
     "text": [
      "Processing conversations:  48%|████▊     | 15571/32170 [1:20:16<1:41:02,  2.74it/s]"
     ]
    },
    {
     "name": "stdout",
     "output_type": "stream",
     "text": [
      "Found 1590 valid entries so far\n"
     ]
    },
    {
     "name": "stderr",
     "output_type": "stream",
     "text": [
      "Processing conversations:  49%|████▊     | 15626/32170 [1:20:28<1:34:51,  2.91it/s]"
     ]
    },
    {
     "name": "stdout",
     "output_type": "stream",
     "text": [
      "Found 1600 valid entries so far\n"
     ]
    },
    {
     "name": "stderr",
     "output_type": "stream",
     "text": [
      "Processing conversations:  49%|████▉     | 15697/32170 [1:20:48<36:25,  7.54it/s]  "
     ]
    },
    {
     "name": "stdout",
     "output_type": "stream",
     "text": [
      "Found 1610 valid entries so far\n"
     ]
    },
    {
     "name": "stderr",
     "output_type": "stream",
     "text": [
      "Processing conversations:  49%|████▉     | 15807/32170 [1:21:21<1:03:33,  4.29it/s]"
     ]
    },
    {
     "name": "stdout",
     "output_type": "stream",
     "text": [
      "Found 1620 valid entries so far\n"
     ]
    },
    {
     "name": "stderr",
     "output_type": "stream",
     "text": [
      "Processing conversations:  50%|████▉     | 15969/32170 [1:22:02<1:09:35,  3.88it/s]"
     ]
    },
    {
     "name": "stdout",
     "output_type": "stream",
     "text": [
      "Found 1630 valid entries so far\n"
     ]
    },
    {
     "name": "stderr",
     "output_type": "stream",
     "text": [
      "Processing conversations:  50%|████▉     | 16018/32170 [1:22:14<1:21:46,  3.29it/s]"
     ]
    },
    {
     "name": "stdout",
     "output_type": "stream",
     "text": [
      "Found 1640 valid entries so far\n"
     ]
    },
    {
     "name": "stderr",
     "output_type": "stream",
     "text": [
      "Processing conversations:  50%|█████     | 16101/32170 [1:22:36<1:17:11,  3.47it/s]"
     ]
    },
    {
     "name": "stdout",
     "output_type": "stream",
     "text": [
      "Found 1650 valid entries so far\n"
     ]
    },
    {
     "name": "stderr",
     "output_type": "stream",
     "text": [
      "Processing conversations:  50%|█████     | 16226/32170 [1:23:03<51:20,  5.18it/s]  "
     ]
    },
    {
     "name": "stdout",
     "output_type": "stream",
     "text": [
      "Found 1660 valid entries so far\n"
     ]
    },
    {
     "name": "stderr",
     "output_type": "stream",
     "text": [
      "Processing conversations:  51%|█████     | 16304/32170 [1:23:17<47:33,  5.56it/s]  "
     ]
    },
    {
     "name": "stdout",
     "output_type": "stream",
     "text": [
      "Found 1670 valid entries so far\n"
     ]
    },
    {
     "name": "stderr",
     "output_type": "stream",
     "text": [
      "Processing conversations:  51%|█████     | 16434/32170 [1:23:49<58:28,  4.48it/s]  "
     ]
    },
    {
     "name": "stdout",
     "output_type": "stream",
     "text": [
      "Found 1680 valid entries so far\n"
     ]
    },
    {
     "name": "stderr",
     "output_type": "stream",
     "text": [
      "Processing conversations:  51%|█████▏    | 16561/32170 [1:24:13<1:49:29,  2.38it/s]"
     ]
    },
    {
     "name": "stdout",
     "output_type": "stream",
     "text": [
      "Found 1690 valid entries so far\n"
     ]
    },
    {
     "name": "stderr",
     "output_type": "stream",
     "text": [
      "Processing conversations:  52%|█████▏    | 16657/32170 [1:24:38<1:07:04,  3.85it/s]"
     ]
    },
    {
     "name": "stdout",
     "output_type": "stream",
     "text": [
      "Found 1700 valid entries so far\n"
     ]
    },
    {
     "name": "stderr",
     "output_type": "stream",
     "text": [
      "Processing conversations:  52%|█████▏    | 16728/32170 [1:24:55<51:38,  4.98it/s]  "
     ]
    },
    {
     "name": "stdout",
     "output_type": "stream",
     "text": [
      "Found 1710 valid entries so far\n"
     ]
    },
    {
     "name": "stderr",
     "output_type": "stream",
     "text": [
      "Processing conversations:  52%|█████▏    | 16809/32170 [1:25:14<39:15,  6.52it/s]  "
     ]
    },
    {
     "name": "stdout",
     "output_type": "stream",
     "text": [
      "Found 1720 valid entries so far\n"
     ]
    },
    {
     "name": "stderr",
     "output_type": "stream",
     "text": [
      "Processing conversations:  53%|█████▎    | 16918/32170 [1:25:44<43:30,  5.84it/s]  "
     ]
    },
    {
     "name": "stdout",
     "output_type": "stream",
     "text": [
      "Found 1730 valid entries so far\n"
     ]
    },
    {
     "name": "stderr",
     "output_type": "stream",
     "text": [
      "Processing conversations:  53%|█████▎    | 17042/32170 [1:26:10<24:54, 10.12it/s]  "
     ]
    },
    {
     "name": "stdout",
     "output_type": "stream",
     "text": [
      "Found 1740 valid entries so far\n"
     ]
    },
    {
     "name": "stderr",
     "output_type": "stream",
     "text": [
      "Processing conversations:  53%|█████▎    | 17191/32170 [1:26:46<35:36,  7.01it/s]  "
     ]
    },
    {
     "name": "stdout",
     "output_type": "stream",
     "text": [
      "Found 1750 valid entries so far\n"
     ]
    },
    {
     "name": "stderr",
     "output_type": "stream",
     "text": [
      "Processing conversations:  54%|█████▎    | 17250/32170 [1:26:58<40:51,  6.09it/s]  "
     ]
    },
    {
     "name": "stdout",
     "output_type": "stream",
     "text": [
      "Found 1760 valid entries so far\n"
     ]
    },
    {
     "name": "stderr",
     "output_type": "stream",
     "text": [
      "Processing conversations:  54%|█████▍    | 17336/32170 [1:27:18<35:55,  6.88it/s]  "
     ]
    },
    {
     "name": "stdout",
     "output_type": "stream",
     "text": [
      "Found 1770 valid entries so far\n"
     ]
    },
    {
     "name": "stderr",
     "output_type": "stream",
     "text": [
      "Processing conversations:  54%|█████▍    | 17436/32170 [1:27:44<1:12:03,  3.41it/s]"
     ]
    },
    {
     "name": "stdout",
     "output_type": "stream",
     "text": [
      "Found 1780 valid entries so far\n"
     ]
    },
    {
     "name": "stderr",
     "output_type": "stream",
     "text": [
      "Processing conversations:  55%|█████▍    | 17606/32170 [1:28:30<21:44, 11.16it/s]  "
     ]
    },
    {
     "name": "stdout",
     "output_type": "stream",
     "text": [
      "Found 1790 valid entries so far\n"
     ]
    },
    {
     "name": "stderr",
     "output_type": "stream",
     "text": [
      "Processing conversations:  55%|█████▍    | 17660/32170 [1:28:48<39:08,  6.18it/s]  "
     ]
    },
    {
     "name": "stdout",
     "output_type": "stream",
     "text": [
      "Found 1800 valid entries so far\n"
     ]
    },
    {
     "name": "stderr",
     "output_type": "stream",
     "text": [
      "Processing conversations:  55%|█████▌    | 17731/32170 [1:29:09<53:57,  4.46it/s]  "
     ]
    },
    {
     "name": "stdout",
     "output_type": "stream",
     "text": [
      "Found 1810 valid entries so far\n"
     ]
    },
    {
     "name": "stderr",
     "output_type": "stream",
     "text": [
      "Processing conversations:  55%|█████▌    | 17833/32170 [1:29:40<1:31:21,  2.62it/s]"
     ]
    },
    {
     "name": "stdout",
     "output_type": "stream",
     "text": [
      "Found 1820 valid entries so far\n"
     ]
    },
    {
     "name": "stderr",
     "output_type": "stream",
     "text": [
      "Processing conversations:  56%|█████▌    | 17921/32170 [1:30:00<59:33,  3.99it/s]  "
     ]
    },
    {
     "name": "stdout",
     "output_type": "stream",
     "text": [
      "Found 1830 valid entries so far\n"
     ]
    },
    {
     "name": "stderr",
     "output_type": "stream",
     "text": [
      "Processing conversations:  56%|█████▌    | 18040/32170 [1:30:25<41:46,  5.64it/s]  "
     ]
    },
    {
     "name": "stdout",
     "output_type": "stream",
     "text": [
      "Found 1840 valid entries so far\n"
     ]
    },
    {
     "name": "stderr",
     "output_type": "stream",
     "text": [
      "Processing conversations:  56%|█████▋    | 18121/32170 [1:30:47<45:14,  5.18it/s]  "
     ]
    },
    {
     "name": "stdout",
     "output_type": "stream",
     "text": [
      "Found 1850 valid entries so far\n"
     ]
    },
    {
     "name": "stderr",
     "output_type": "stream",
     "text": [
      "Processing conversations:  57%|█████▋    | 18208/32170 [1:31:09<1:19:43,  2.92it/s]"
     ]
    },
    {
     "name": "stdout",
     "output_type": "stream",
     "text": [
      "Found 1860 valid entries so far\n"
     ]
    },
    {
     "name": "stderr",
     "output_type": "stream",
     "text": [
      "Processing conversations:  57%|█████▋    | 18320/32170 [1:31:42<36:00,  6.41it/s]  "
     ]
    },
    {
     "name": "stdout",
     "output_type": "stream",
     "text": [
      "Found 1870 valid entries so far\n"
     ]
    },
    {
     "name": "stderr",
     "output_type": "stream",
     "text": [
      "Processing conversations:  57%|█████▋    | 18408/32170 [1:32:03<34:06,  6.72it/s]  "
     ]
    },
    {
     "name": "stdout",
     "output_type": "stream",
     "text": [
      "Found 1880 valid entries so far\n"
     ]
    },
    {
     "name": "stderr",
     "output_type": "stream",
     "text": [
      "Processing conversations:  57%|█████▋    | 18492/32170 [1:32:19<49:15,  4.63it/s]  "
     ]
    },
    {
     "name": "stdout",
     "output_type": "stream",
     "text": [
      "Found 1890 valid entries so far\n"
     ]
    },
    {
     "name": "stderr",
     "output_type": "stream",
     "text": [
      "Processing conversations:  58%|█████▊    | 18560/32170 [1:32:43<1:35:21,  2.38it/s]"
     ]
    },
    {
     "name": "stdout",
     "output_type": "stream",
     "text": [
      "Found 1900 valid entries so far\n"
     ]
    },
    {
     "name": "stderr",
     "output_type": "stream",
     "text": [
      "Processing conversations:  58%|█████▊    | 18634/32170 [1:32:58<1:06:25,  3.40it/s]"
     ]
    },
    {
     "name": "stdout",
     "output_type": "stream",
     "text": [
      "Found 1910 valid entries so far\n"
     ]
    },
    {
     "name": "stderr",
     "output_type": "stream",
     "text": [
      "Processing conversations:  58%|█████▊    | 18744/32170 [1:33:28<1:37:32,  2.29it/s]"
     ]
    },
    {
     "name": "stdout",
     "output_type": "stream",
     "text": [
      "Found 1920 valid entries so far\n"
     ]
    },
    {
     "name": "stderr",
     "output_type": "stream",
     "text": [
      "Processing conversations:  58%|█████▊    | 18806/32170 [1:33:42<28:52,  7.71it/s]  "
     ]
    },
    {
     "name": "stdout",
     "output_type": "stream",
     "text": [
      "Found 1930 valid entries so far\n"
     ]
    },
    {
     "name": "stderr",
     "output_type": "stream",
     "text": [
      "Processing conversations:  59%|█████▉    | 18906/32170 [1:34:07<24:40,  8.96it/s]  "
     ]
    },
    {
     "name": "stdout",
     "output_type": "stream",
     "text": [
      "Found 1940 valid entries so far\n"
     ]
    },
    {
     "name": "stderr",
     "output_type": "stream",
     "text": [
      "Processing conversations:  59%|█████▉    | 19030/32170 [1:34:31<38:24,  5.70it/s]  "
     ]
    },
    {
     "name": "stdout",
     "output_type": "stream",
     "text": [
      "Found 1950 valid entries so far\n"
     ]
    },
    {
     "name": "stderr",
     "output_type": "stream",
     "text": [
      "Processing conversations:  60%|█████▉    | 19163/32170 [1:35:02<1:00:28,  3.58it/s]"
     ]
    },
    {
     "name": "stdout",
     "output_type": "stream",
     "text": [
      "Found 1960 valid entries so far\n"
     ]
    },
    {
     "name": "stderr",
     "output_type": "stream",
     "text": [
      "Processing conversations:  60%|██████    | 19326/32170 [1:35:34<29:32,  7.25it/s]  "
     ]
    },
    {
     "name": "stdout",
     "output_type": "stream",
     "text": [
      "Found 1970 valid entries so far\n"
     ]
    },
    {
     "name": "stderr",
     "output_type": "stream",
     "text": [
      "Processing conversations:  60%|██████    | 19391/32170 [1:35:55<27:04,  7.87it/s]  "
     ]
    },
    {
     "name": "stdout",
     "output_type": "stream",
     "text": [
      "Found 1980 valid entries so far\n"
     ]
    },
    {
     "name": "stderr",
     "output_type": "stream",
     "text": [
      "Processing conversations:  61%|██████    | 19514/32170 [1:36:17<17:52, 11.80it/s]  "
     ]
    },
    {
     "name": "stdout",
     "output_type": "stream",
     "text": [
      "Found 1990 valid entries so far\n"
     ]
    },
    {
     "name": "stderr",
     "output_type": "stream",
     "text": [
      "Processing conversations:  61%|██████    | 19603/32170 [1:36:40<1:01:58,  3.38it/s]\n"
     ]
    },
    {
     "name": "stdout",
     "output_type": "stream",
     "text": [
      "Found 2000 valid entries so far\n",
      "Reached 2000 entries, stopping.\n",
      "Found and saved 2000 entries matching criteria to filtered_claude_responses.jsonl\n",
      "Average word count: 110.44\n",
      "Min word count: 100\n",
      "Max word count: 120\n",
      "Word Count Statistics:\n",
      "        word_count\n",
      "count  2000.000000\n",
      "mean    110.436000\n",
      "std       6.096432\n",
      "min     100.000000\n",
      "25%     105.000000\n",
      "50%     111.000000\n",
      "75%     116.000000\n",
      "max     120.000000\n"
     ]
    },
    {
     "data": {
      "image/png": "[encoded data removed]",
      "text/plain": [
       "<Figure size 1000x600 with 1 Axes>"
      ]
     },
     "metadata": {},
     "output_type": "display_data"
    },
    {
     "name": "stdout",
     "output_type": "stream",
     "text": [
      "Converted 2000 entries to CSV format\n",
      "Saved to filtered_claude_responses.csv\n"
     ]
    }
   ],
   "source": [
    "import json\n",
    "import re\n",
    "import nltk\n",
    "from nltk.tokenize import word_tokenize\n",
    "import spacy\n",
    "from tqdm import tqdm\n",
    "import matplotlib.pyplot as plt\n",
    "import pandas as pd\n",
    "import csv\n",
    "\n",
    "# Download NLTK resources\n",
    "nltk.download('punkt')\n",
    "\n",
    "# Load spaCy model for topic detection\n",
    "try:\n",
    "    nlp = spacy.load('en_core_web_md')\n",
    "    print(\"Loaded spaCy model successfully\")\n",
    "except:\n",
    "    print(\"Downloading spaCy model (this may take a moment)...\")\n",
    "    import subprocess\n",
    "    subprocess.run([\"python\", \"-m\", \"spacy\", \"download\", \"en_core_web_md\"])\n",
    "    nlp = spacy.load('en_core_web_md')\n",
    "\n",
    "# Define science/health/nutrition related terms - KEEPING THE ORIGINAL TOPICS\n",
    "TOPIC_KEYWORDS = {\n",
    "    'science': [\n",
    "        'science', 'research', 'experiment', 'theory', 'scientific', 'scientist', 'study', \n",
    "        'laboratory', 'evidence', 'hypothesis', 'analysis', 'discovery', 'biology', 'physics', \n",
    "        'chemistry', 'astronomy', 'geology'],\n",
    "    'health': [\n",
    "        'health', 'medical', 'medicine', 'disease', 'doctor', 'patient', 'treatment', 'cure', \n",
    "        'symptoms', 'diagnosis', 'therapy', 'wellness', 'illness', 'healthcare', 'hospital', \n",
    "        'clinic', 'recovery', 'prevention', 'condition', 'immune', 'surgery', 'mental health',\n",
    "        'physical', 'wellbeing', 'disease', 'cancer', 'heart', 'brain', 'lungs'\n",
    "    ],\n",
    "    'nutrition': [\n",
    "        'nutrition', 'diet', 'food', 'healthy eating', 'nutrient', 'vitamin', 'mineral', \n",
    "        'protein', 'carbohydrate', 'fat', 'calorie', 'metabolism', 'digestion', 'meal', \n",
    "        'vegetable', 'fruit', 'meat', 'dairy', 'weight', 'obesity', 'sugar', 'organic', \n",
    "        'supplement', 'fiber', 'hydration', 'fasting', 'macronutrient'\n",
    "    ]\n",
    "}\n",
    "\n",
    "# Flatten the keywords list for easier checking\n",
    "ALL_KEYWORDS = set()\n",
    "for category_keywords in TOPIC_KEYWORDS.values():\n",
    "    ALL_KEYWORDS.update(category_keywords)\n",
    "\n",
    "def clean_text(text):\n",
    "    \"\"\"Clean and normalize text\"\"\"\n",
    "    if not text:\n",
    "        return \"\"\n",
    "    # Replace newlines and multiple spaces with single space\n",
    "    text = re.sub(r'\\s+', ' ', text)\n",
    "    # Remove special characters except punctuation\n",
    "    text = re.sub(r'[^\\w\\s.,!?;:\\'\\\"-]', '', text)\n",
    "    return text.strip()\n",
    "\n",
    "def count_words(text):\n",
    "    \"\"\"Count words in text\"\"\"\n",
    "    if not text:\n",
    "        return 0\n",
    "    words = word_tokenize(text)\n",
    "    return len(words)\n",
    "\n",
    "def is_relevant_topic(text):\n",
    "    \"\"\"\n",
    "    Check if the text is relevant to science, health, or nutrition\n",
    "    using both keyword matching and spaCy similarity\n",
    "    \"\"\"\n",
    "    if not text:\n",
    "        return False\n",
    "    \n",
    "    # Clean and lowercase the text\n",
    "    clean_text_lower = text.lower()\n",
    "    \n",
    "    # Direct keyword matching\n",
    "    for keyword in ALL_KEYWORDS:\n",
    "        if keyword.lower() in clean_text_lower:\n",
    "            return True\n",
    "    \n",
    "    # Use spaCy for semantic similarity\n",
    "    doc = nlp(clean_text_lower)\n",
    "    \n",
    "    # Check similarity with topic keywords\n",
    "    for category, keywords in TOPIC_KEYWORDS.items():\n",
    "        for keyword in keywords:\n",
    "            keyword_doc = nlp(keyword)\n",
    "            # Check if any token in the document is similar to the keyword\n",
    "            for token in doc:\n",
    "                if token.vector_norm and keyword_doc[0].vector_norm:  # Check if vectors exist\n",
    "                    similarity = token.similarity(keyword_doc[0])\n",
    "                    if similarity > 0.75:  # Threshold for similarity\n",
    "                        return True\n",
    "    \n",
    "    return False\n",
    "\n",
    "def filter_claude_responses(input_file, output_file, min_words=100, max_words=120, max_entries=1000):\n",
    "    \"\"\"\n",
    "    Filter Claude responses from the input JSON file based on word count and topic relevance\n",
    "    and save to a new JSONL file.\n",
    "    \n",
    "    Parameters:\n",
    "    - input_file: Path to the input JSON file with Claude conversations\n",
    "    - output_file: Path to the output JSONL file\n",
    "    - min_words: Minimum word count for valid responses\n",
    "    - max_words: Maximum word count for valid responses\n",
    "    - max_entries: Maximum number of entries to collect\n",
    "    \"\"\"\n",
    "    # Read the input file\n",
    "    try:\n",
    "        with open(input_file, 'r', encoding='utf-8') as f:\n",
    "            data = json.load(f)\n",
    "        \n",
    "        if not isinstance(data, list):\n",
    "            print(f\"Error: Expected a list of conversation entries, got {type(data)}\")\n",
    "            return []\n",
    "            \n",
    "        print(f\"Processing {len(data)} entries from {input_file}...\")\n",
    "    except json.JSONDecodeError:\n",
    "        print(f\"Error: Could not parse {input_file} as JSON\")\n",
    "        return []\n",
    "    except Exception as e:\n",
    "        print(f\"Error reading file {input_file}: {e}\")\n",
    "        return []\n",
    "    \n",
    "    # Process each conversation\n",
    "    valid_entries = []\n",
    "    valid_count = 0\n",
    "    \n",
    "    with open(output_file, 'w', encoding='utf-8') as out_f:\n",
    "        for entry_idx, entry in enumerate(tqdm(data, desc=\"Processing conversations\")):\n",
    "            try:\n",
    "                # Check if this entry has a conversations field\n",
    "                if 'conversations' not in entry:\n",
    "                    continue\n",
    "                \n",
    "                conversation_id = entry.get('id', f\"unknown_{entry_idx}\")\n",
    "                conversations = entry.get('conversations', [])\n",
    "                \n",
    "                # Process each Claude response in the conversation\n",
    "                for i, msg in enumerate(conversations):\n",
    "                    # Only process messages from Claude (labeled as \"gpt\" in your example)\n",
    "                    if msg.get('from') != 'gpt':\n",
    "                        continue\n",
    "                    \n",
    "                    # Get the message text\n",
    "                    message = clean_text(msg.get('value', ''))\n",
    "                    \n",
    "                    # Skip if message is empty\n",
    "                    if not message:\n",
    "                        continue\n",
    "                    \n",
    "                    # Get the corresponding user question (previous message)\n",
    "                    question = \"\"\n",
    "                    if i > 0 and conversations[i-1].get('from') == 'human':\n",
    "                        question = clean_text(conversations[i-1].get('value', ''))\n",
    "                    \n",
    "                    # Count words\n",
    "                    word_count = count_words(message)\n",
    "                    \n",
    "                    # Check if the message is relevant to our topics\n",
    "                    is_relevant = is_relevant_topic(message)\n",
    "                    \n",
    "                    # Check if the entry meets our criteria\n",
    "                    if (min_words <= word_count <= max_words and is_relevant):\n",
    "                        # Create a new entry with the fields we want to keep\n",
    "                        filtered_entry = {\n",
    "                            'id': f\"{conversation_id}_{i}\",\n",
    "                            'question': question,\n",
    "                            'abstract': message,\n",
    "                            'word_count': word_count\n",
    "                        }\n",
    "                        \n",
    "                        # Write directly to output file\n",
    "                        out_f.write(json.dumps(filtered_entry) + '\\n')\n",
    "                        \n",
    "                        # Append to our valid entries list\n",
    "                        valid_entries.append(filtered_entry)\n",
    "                        valid_count += 1\n",
    "                        \n",
    "                        # Print progress periodically\n",
    "                        if valid_count % 10 == 0:\n",
    "                            print(f\"Found {valid_count} valid entries so far\")\n",
    "                        \n",
    "                        # Stop if we've reached the desired number of entries\n",
    "                        if valid_count >= max_entries:\n",
    "                            print(f\"Reached {max_entries} entries, stopping.\")\n",
    "                            break\n",
    "            \n",
    "            except Exception as e:\n",
    "                print(f\"Error processing entry {entry_idx}: {e}\")\n",
    "                continue\n",
    "            \n",
    "            # Stop processing if we've reached the maximum entries\n",
    "            if valid_count >= max_entries:\n",
    "                break\n",
    "    \n",
    "    print(f\"Found and saved {valid_count} entries matching criteria to {output_file}\")\n",
    "    \n",
    "    # Print some statistics\n",
    "    word_counts = [entry['word_count'] for entry in valid_entries]\n",
    "    if word_counts:\n",
    "        avg_word_count = sum(word_counts) / len(word_counts)\n",
    "        print(f\"Average word count: {avg_word_count:.2f}\")\n",
    "        print(f\"Min word count: {min(word_counts)}\")\n",
    "        print(f\"Max word count: {max(word_counts)}\")\n",
    "    \n",
    "    return valid_entries\n",
    "\n",
    "# Configuration parameters\n",
    "input_file = \"claude_multiround_chat_30k.json\"  # JSON file with Claude conversations\n",
    "output_file = \"filtered_claude_responses.jsonl\"  # Output file path\n",
    "min_words = 100  # Minimum word count\n",
    "max_words = 120  # Maximum word count\n",
    "max_entries = 2000  # Maximum number of entries to collect\n",
    "\n",
    "def run_filter():\n",
    "    \"\"\"Run the filtering process with the configured parameters\"\"\"\n",
    "    return filter_claude_responses(\n",
    "        input_file=input_file,\n",
    "        output_file=output_file,\n",
    "        min_words=min_words,\n",
    "        max_words=max_words,\n",
    "        max_entries=max_entries\n",
    "    )\n",
    "\n",
    "# To analyze word count distribution\n",
    "def analyze_word_counts(jsonl_file):\n",
    "    \"\"\"Analyze word count distribution in the filtered dataset\"\"\"\n",
    "    word_counts = []\n",
    "    with open(jsonl_file, 'r', encoding='utf-8') as f:\n",
    "        for line in f:\n",
    "            entry = json.loads(line)\n",
    "            word_counts.append(entry['word_count'])\n",
    "    \n",
    "    # Create DataFrame for analysis\n",
    "    df = pd.DataFrame({'word_count': word_counts})\n",
    "    \n",
    "    # Display statistics\n",
    "    stats = df.describe()\n",
    "    print(\"Word Count Statistics:\")\n",
    "    print(stats)\n",
    "    \n",
    "    # Plot histogram\n",
    "    plt.figure(figsize=(10, 6))\n",
    "    plt.hist(word_counts, bins=20, alpha=0.7)\n",
    "    plt.title('Word Count Distribution')\n",
    "    plt.xlabel('Word Count')\n",
    "    plt.ylabel('Frequency')\n",
    "    plt.grid(alpha=0.3)\n",
    "    plt.show()\n",
    "    \n",
    "    return df\n",
    "\n",
    "# Function to convert JSONL to CSV\n",
    "def convert_to_csv(jsonl_file, csv_file):\n",
    "    \"\"\"Convert a JSONL file to CSV format\"\"\"\n",
    "    # Read JSONL into a list of dictionaries\n",
    "    data = []\n",
    "    with open(jsonl_file, 'r', encoding='utf-8') as f:\n",
    "        for line in f:\n",
    "            data.append(json.loads(line))\n",
    "    \n",
    "    # Convert to DataFrame\n",
    "    df = pd.DataFrame(data)\n",
    "    \n",
    "    # Removing all columns except abstract and word_count (keeping original format)\n",
    "    if 'abstract' in df.columns and 'word_count' in df.columns:\n",
    "        df = df[['abstract', 'word_count']]\n",
    "    \n",
    "    # Save to CSV\n",
    "    df.to_csv(csv_file, index=False, quoting=csv.QUOTE_ALL)\n",
    "    print(f\"Converted {len(data)} entries to CSV format\")\n",
    "    print(f\"Saved to {csv_file}\")\n",
    "    \n",
    "    return df\n",
    "\n",
    "if __name__ == \"__main__\":\n",
    "    # Run the filter\n",
    "    filtered_data = run_filter()\n",
    "\n",
    "    # Analyze word counts\n",
    "    if filtered_data and len(filtered_data) > 0:\n",
    "        word_count_data = analyze_word_counts(output_file)\n",
    "\n",
    "        # Convert to CSV\n",
    "        csv_df = convert_to_csv(output_file, \"filtered_claude_responses.csv\")\n",
    "    else:\n",
    "        print(\"No entries matched the criteria. Skipping analysis and CSV conversion.\")"
   ]
  }
 ],
 "metadata": {
  "kernelspec": {
   "display_name": "Python 3",
   "language": "python",
   "name": "python3"
  },
  "language_info": {
   "codemirror_mode": {
    "name": "ipython",
    "version": 3
   },
   "file_extension": ".py",
   "mimetype": "text/x-python",
   "name": "python",
   "nbconvert_exporter": "python",
   "pygments_lexer": "ipython3",
   "version": "3.12.4"
  }
 },
 "nbformat": 4,
 "nbformat_minor": 2
}
